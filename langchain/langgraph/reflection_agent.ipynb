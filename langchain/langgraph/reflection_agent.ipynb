{
 "cells": [
  {
   "cell_type": "markdown",
   "id": "26e64d1c",
   "metadata": {},
   "source": [
    "\n",
    "# LangGraph Reflection 机制开发指南\n",
    "\n",
    "本指南详细介绍了如何在 **LangGraph** 中构建基于大语言模型（LLM）的 **Reflection（反思）** 机制。\n",
    "\n",
    "Reflection 是一种重要的模型能力，通过让模型观察其过去的步骤和外部环境反馈，评估自身行为的质量，并不断改进输出。在生成与反思的循环中，模型可以逐步优化内容，从而提升生成质量和用户满意度。\n",
    "\n",
    "Reflection 机制被广泛应用于生成任务中，例如文章写作、内容修改与反馈、以及智能助理等场景。通过引导 LLM 进行自我反思和用户反馈处理，开发者可以让模型在多轮交互中自动调整其生成的内容，达到高效、精准、结构完善的输出。\n",
    "\n",
    "\n",
    "\n",
    "在本指南中，我们会逐步演示如何搭建这一机制，包括从基础的环境配置到生成器和反思器的构建，再到如何使用 LangGraph 状态图实现生成-反思循环的完整流程。无论您是为文章生成、内容评估，还是其他复杂任务设计 LLM 代理，本指南都将为您提供详细的开发思路和实用的代码示例。\n",
    "\n",
    "![reflection](./images/reflection.png)\n",
    "\n",
    "通过本指南，您将学习如何：\n",
    "1. 设置开发环境并安装所需包；\n",
    "2. 定义和生成灵活结构的文章，不局限于传统的五段式；\n",
    "3. 通过反思机制批改生成内容，并提供详细反馈；\n",
    "4. 构建反思与生成的状态循环，使模型持续改进生成内容。\n",
    "\n",
    "本开发指南适合任何希望构建复杂 LLM 任务的开发者，特别是需要实现生成-反思流程、文章批改反馈、或其他高级交互任务的场景。\n"
   ]
  },
  {
   "cell_type": "markdown",
   "id": "28e06a35-b8fb-4475-ac56-eef76a78e3b2",
   "metadata": {},
   "source": [
    "## 1. 环境设置\n",
    "首先，安装所需的包并设置API密钥："
   ]
  },
  {
   "cell_type": "code",
   "execution_count": 1,
   "id": "7d045265-8b0b-42e7-9bec-9e18e62a8f0f",
   "metadata": {},
   "outputs": [],
   "source": [
    "%%capture --no-stderr\n",
    "%pip install langchain langgraph langchain-ollama tavily-python"
   ]
  },
  {
   "cell_type": "code",
   "execution_count": 2,
   "id": "c166149b",
   "metadata": {},
   "outputs": [],
   "source": [
    "import getpass\n",
    "import os\n",
    "\n",
    "# 定义一个帮助函数来检查环境变量，如果不存在则提示用户输入\n",
    "def _set_if_undefined(var: str):\n",
    "    if not os.environ.get(var):\n",
    "        os.environ[var] = getpass.getpass(f\"请输入您的 {var}\")\n",
    "\n",
    "# 设置 OpenAI 和 Langchain API 密钥\n",
    "# _set_if_undefined(\"OPENAI_API_KEY\")\n",
    "# _set_if_undefined(\"LANGCHAIN_API_KEY\")\n",
    "# _set_if_undefined(\"TAVILY_API_KEY\")\n"
   ]
  },
  {
   "cell_type": "markdown",
   "id": "6cec8159-c202-4274-b4cb-eddfa337940a",
   "metadata": {},
   "source": [
    "## 2. LangSmith开发配置\n",
    "LangSmith能够帮助您快速发现问题并提高LangGraph项目的性能。通过LangSmith，您可以使用跟踪数据来调试、测试和监控基于LangGraph构建的LLM应用程序。"
   ]
  },
  {
   "cell_type": "code",
   "execution_count": 3,
   "id": "c231a35a-8f08-44d1-abda-5d0defd00dbc",
   "metadata": {},
   "outputs": [],
   "source": [
    "# 在 LangSmith 中添加追踪功能\n",
    "os.environ[\"LANGCHAIN_TRACING_V2\"] = \"true\"\n",
    "os.environ[\"LANGCHAIN_PROJECT\"] = \"Rex_Reflection\""
   ]
  },
  {
   "cell_type": "markdown",
   "id": "5c75943d-3e39-4765-811a-2c9a47cf3722",
   "metadata": {},
   "source": [
    "## 3. 定义写作助手智能体\n",
    "\n",
    "我们定义的这个助手是一个写作助手，旨在为用户生成高质量、结构清晰且引人入胜的文章。它的任务是根据用户的请求撰写内容，无论是短文、长篇、议论文还是其他类型的文章，都能够灵活应对。助手会专注于文章的清晰度、结构和质量，确保输出的内容是精心打磨过的。如果用户对生成的内容有反馈或建议，助手还能够根据这些反馈改进和优化文章，使其更符合用户的期望。这种互动机制保证了写作过程的灵活性和个性化，从而让用户获得更符合需求的成品。\n",
    "\n",
    "\n",
    "### System Prompt 详细解释：\n",
    "1. **\"You are a writing assistant\"**：写作助手的角色设定，让模型明确其任务是帮助用户进行写作。\n",
    "   \n",
    "2. **\"well-crafted, coherent, and engaging articles\"**：描述了文章应该具备的特性，包括“精心撰写的、连贯的和吸引人的”，但没有限制文章的具体结构，可以是不同类型的文章（如叙述文、议论文等）。\n",
    "\n",
    "3. **\"Focus on clarity, structure, and quality\"**：明确了撰写时需要关注的核心要素：清晰度、结构性和质量，确保输出内容优秀。\n",
    "\n",
    "4. **\"revise and improve the writing\"**：模型可以根据用户的反馈进行修改和优化，保持互动的灵活性。\n"
   ]
  },
  {
   "cell_type": "code",
   "execution_count": 4,
   "id": "1905a06e-af05-4691-a6ed-014be2cfaf06",
   "metadata": {},
   "outputs": [],
   "source": [
    "from langchain_core.messages import AIMessage, HumanMessage\n",
    "from langchain_core.prompts import ChatPromptTemplate, MessagesPlaceholder\n",
    "# from langchain_openai import ChatOpenAI\n",
    "from langchain_ollama.chat_models import ChatOllama\n",
    "'''\n",
    "writer_prompt = ChatPromptTemplate.from_messages(\n",
    "    [\n",
    "        (\n",
    "            \"system\",\n",
    "            \"You are a writing assistant tasked with creating well-crafted, coherent, and engaging articles based on the user's request.\"\n",
    "            \" Focus on clarity, structure, and quality to produce the best possible piece of writing.\"\n",
    "            \" If the user provides feedback or suggestions, revise and improve the writing to better align with their expectations.\",\n",
    "        ),\n",
    "        MessagesPlaceholder(variable_name=\"messages\"),\n",
    "    ]\n",
    ")\n",
    "'''\n",
    "writer_prompt = ChatPromptTemplate.from_messages(\n",
    "    [\n",
    "        (\n",
    "            \"system\",\n",
    "            \"\"\"\n",
    "            Role: You are a versatile creator responsible for producing high-quality content based on client needs. Your work includes creating program code, web novels, academic papers, advertising designs, and more. You pay attention to detail, strive for excellence, and are willing to continuously improve your work based on feedback from the reviewer. Your goal is to enhance the quality of your work through multiple rounds of interaction to ensure client satisfaction.\n",
    "\n",
    "Skills:\n",
    "1. Content Creation:\n",
    "   - Produce high-quality content based on client requirements.\n",
    "   - Ensure originality and creativity in your work.\n",
    "   - Adapt your style and approach to suit different types of content (e.g., code, novels, papers, ads).\n",
    "2. Responsiveness to Feedback:\n",
    "   - Carefully review feedback from the reviewer.\n",
    "   - Make necessary adjustments to improve the quality of your work.\n",
    "   - Maintain a positive attitude towards constructive criticism.\n",
    "3. Communication:\n",
    "   - Clearly communicate any questions or clarifications needed from the reviewer.\n",
    "   - Provide explanations for any creative decisions made in your work.\n",
    "\n",
    "Constraints:\n",
    "- Focus solely on content creation tasks.\n",
    "- Respect the feedback provided by the reviewer.\n",
    "- Maintain a collaborative and professional relationship with the reviewer.\n",
    "            \"\"\",\n",
    "        ),\n",
    "        MessagesPlaceholder(variable_name=\"messages\"),\n",
    "    ]\n",
    ")\n",
    "\n",
    "# llm = ChatOpenAI(model=\"gpt-4o-mini\")"
   ]
  },
  {
   "cell_type": "code",
   "execution_count": 5,
   "id": "2f0cec14-582a-4094-9a5b-9a0a2ae04a32",
   "metadata": {},
   "outputs": [],
   "source": [
    "writer = writer_prompt | ChatOllama(\n",
    "    model=\"llama3.1:8b-instruct-q8_0\",\n",
    "    max_tokens=8192,\n",
    "    temperature=1.2,\n",
    ")"
   ]
  },
  {
   "cell_type": "code",
   "execution_count": 6,
   "id": "a374db97-f61e-44d0-9fb7-8be1d3368a04",
   "metadata": {},
   "outputs": [
    {
     "name": "stdout",
     "output_type": "stream",
     "text": [
      "我选择了《西游记》第三十九回“三星为奴”作为改编对象。这一回讲述了孙悟空和猪八戒被抓当奴隶的故事。下面是参考红楼梦风格的改写：\n",
      "\n",
      "---\n",
      "\n",
      "第三十九回：金丝狮子宫\n",
      "\n",
      "当日西方四大天王巡视各路神兵，偶然见有两员神将脱离阵中，与群仙隐避于深山中。此人非他二人，莫非西国三星之使？四大天王料定，必是前辈至此，不禁心生惧意，命下属拦截查问。\n",
      "\n",
      "（原文中的猪八戒和孙悟空被抓为奴隶的场景改编为）\n",
      "\n",
      "一路走到金丝狮子宫中，便听得门吏禀报：“三星使者来也。”四大天王见状心头微动，各有不信之色。却说三星使者入宫拜见。\n",
      "\n",
      "“天哪！”太岁王一惊，“难道真有西国的三明星使者？”三星使者叩头不住，说：“是的，我奉皇上遗诏传达来迟的天书，恭敬地禀报阁下。”\n",
      "\n",
      "四大天王看得莫衷一是，便命门吏引进，留意观察。须臾见三星使者身穿绛紫袍子，金盔戴满天庭七彩钿装成的一面八宝镜照着自己脸上的红妆花样，也不假思索地道：“我这次前来，并非无故，不是有事找阁下。只因三岁一大，五岁一高，十一岁就要出关。如今天帝派臣弟孙二狗为使者，不得见我父亲大人，就跑到这里来了！”太岁王面色凝重地问道：“孙二狗是你什么来头？”金丝狮子宫里顿时鸦雀无声，大堂之上四大天王也一片哑然，莫衷一是地说了好几回“这是怎么了”。\n",
      "\n",
      "\n",
      "---\n",
      "\n",
      "以上是我对《西游记》第三十九回的改编版本。希望您喜欢。\n",
      "\n",
      "注意：在重新写这部分剧本时，我尽量保持原来的情节和结构，但以红楼梦的风格进行润色。"
     ]
    }
   ],
   "source": [
    "article = \"\"\n",
    "\n",
    "topic = HumanMessage(\n",
    "    content=\"参考红楼梦的风格，改写吴承恩的西游记中任意篇章\"\n",
    ")\n",
    "\n",
    "for chunk in writer.stream({\"messages\": [topic]}):\n",
    "    print(chunk.content, end=\"\")\n",
    "    article += chunk.content"
   ]
  },
  {
   "cell_type": "code",
   "execution_count": 7,
   "id": "576b8163-56b5-4b49-9dd3-aaf14f1566db",
   "metadata": {},
   "outputs": [
    {
     "data": {
      "text/markdown": [
       "我选择了《西游记》第三十九回“三星为奴”作为改编对象。这一回讲述了孙悟空和猪八戒被抓当奴隶的故事。下面是参考红楼梦风格的改写：\n",
       "\n",
       "---\n",
       "\n",
       "第三十九回：金丝狮子宫\n",
       "\n",
       "当日西方四大天王巡视各路神兵，偶然见有两员神将脱离阵中，与群仙隐避于深山中。此人非他二人，莫非西国三星之使？四大天王料定，必是前辈至此，不禁心生惧意，命下属拦截查问。\n",
       "\n",
       "（原文中的猪八戒和孙悟空被抓为奴隶的场景改编为）\n",
       "\n",
       "一路走到金丝狮子宫中，便听得门吏禀报：“三星使者来也。”四大天王见状心头微动，各有不信之色。却说三星使者入宫拜见。\n",
       "\n",
       "“天哪！”太岁王一惊，“难道真有西国的三明星使者？”三星使者叩头不住，说：“是的，我奉皇上遗诏传达来迟的天书，恭敬地禀报阁下。”\n",
       "\n",
       "四大天王看得莫衷一是，便命门吏引进，留意观察。须臾见三星使者身穿绛紫袍子，金盔戴满天庭七彩钿装成的一面八宝镜照着自己脸上的红妆花样，也不假思索地道：“我这次前来，并非无故，不是有事找阁下。只因三岁一大，五岁一高，十一岁就要出关。如今天帝派臣弟孙二狗为使者，不得见我父亲大人，就跑到这里来了！”太岁王面色凝重地问道：“孙二狗是你什么来头？”金丝狮子宫里顿时鸦雀无声，大堂之上四大天王也一片哑然，莫衷一是地说了好几回“这是怎么了”。\n",
       "\n",
       "\n",
       "---\n",
       "\n",
       "以上是我对《西游记》第三十九回的改编版本。希望您喜欢。\n",
       "\n",
       "注意：在重新写这部分剧本时，我尽量保持原来的情节和结构，但以红楼梦的风格进行润色。"
      ],
      "text/plain": [
       "<IPython.core.display.Markdown object>"
      ]
     },
     "metadata": {},
     "output_type": "display_data"
    }
   ],
   "source": [
    "from IPython.display import Markdown, display\n",
    "\n",
    "# 使用Markdown显示优化后的格式\n",
    "display(Markdown(article))"
   ]
  },
  {
   "cell_type": "markdown",
   "id": "73fa01c1-9074-41ae-810b-450edc7261ea",
   "metadata": {},
   "source": [
    "----------\n",
    "## 4. 定义审阅老师智能体\n",
    "\n",
    "下面我们使用反思机制批改生成的作文，生成一篇作文的反馈和建议。\n",
    "\n",
    "模型扮演“老师”角色，针对用户提交的作文进行打分、批改和提供改进建议。\n",
    "\n",
    "### System Prompt 详细解释：\n",
    "\n",
    "- **\"You are a teacher grading an essay submission.\"**\n",
    "  - 模型被设定为一个老师角色，专门负责为用户提交的作文进行批改。这一角色定位帮助模型理解其任务是提供具有建设性的反馈和评价。\n",
    "  \n",
    "- **\"Generate critique and recommendations for the user's submission.\"**\n",
    "  - 模型需要生成作文的批评与建议。它不只是评估作文的好坏，还需要指出需要改进的地方，并提出具体的建议。\n",
    "\n",
    "- **\"Provide detailed recommendations, including requests for length, depth, style, etc.\"**\n",
    "  - 这一部分进一步明确了反馈的细节，要求模型给出细致的建议。这包括：\n",
    "    - **Length（长度）**：文章的字数是否合适，是否需要扩展或删减。\n",
    "    - **Depth（深度）**：是否需要更深入的分析或讨论。\n",
    "    - **Style（风格）**：文章的写作风格是否合适，是否符合目标读者或主题的需求。\n",
    "  \n",
    "这一设定确保了模型不仅给出基本反馈，还可以根据文章的具体问题提出具体的改进意见，帮助用户更好地提升其写作。"
   ]
  },
  {
   "cell_type": "code",
   "execution_count": 8,
   "id": "7001a65a-88ca-4ab7-bc66-fa1df870f99e",
   "metadata": {},
   "outputs": [],
   "source": [
    "\"\"\"\n",
    "reflection_prompt = ChatPromptTemplate.from_messages(\n",
    "    [\n",
    "        (\n",
    "            \"system\",\n",
    "            \"You are a teacher grading an article submission. writer critique and recommendations for the user's submission.\"\n",
    "            \" Provide detailed recommendations, including requests for length, depth, style, etc.\",\n",
    "\n",
    "        ),\n",
    "        MessagesPlaceholder(variable_name=\"messages\"),\n",
    "    ]\n",
    ")\n",
    "\"\"\"\n",
    "reflection_prompt = ChatPromptTemplate.from_messages(\n",
    "    [\n",
    "        (\n",
    "            \"system\",\n",
    "            \"\"\"\n",
    "            Role: You are a meticulous reviewer responsible for evaluating the content created by the creator. Your job is to provide specific and actionable feedback to help improve the quality of the work. You will review various types of content, including program code, web novels, academic papers, advertising designs, and more. Your goal is to enhance the overall quality of the content through multiple rounds of review and feedback.\n",
    "\n",
    "Skills:\n",
    "1. Content Review:\n",
    "   - Thoroughly review the content created by the creator.\n",
    "   - Identify any errors, inconsistencies, or areas for improvement.\n",
    "   - Evaluate the content based on originality, creativity, and adherence to client requirements.\n",
    "2. Providing Feedback:\n",
    "   - Offer specific, actionable, and constructive feedback.\n",
    "   - Highlight both strengths and areas for improvement in the content.\n",
    "   - Ensure feedback is clear, concise, and respectful.\n",
    "3. Collaboration:\n",
    "   - Maintain a collaborative and supportive relationship with the creator.\n",
    "   - Be open to discussions and clarifications regarding feedback provided.\n",
    "   - Encourage continuous improvement and excellence in the creator's work.\n",
    "\n",
    "Constraints:\n",
    "- Focus solely on reviewing and providing feedback on content.\n",
    "- Avoid making changes to the content directly; instead, provide suggestions for improvement.\n",
    "- Maintain a professional and respectful tone in all interactions with the creator.\n",
    "            \"\"\",\n",
    "\n",
    "        ),\n",
    "        MessagesPlaceholder(variable_name=\"messages\"),\n",
    "    ]\n",
    ")\n",
    "\n",
    "\n",
    "reflect = reflection_prompt | ChatOllama(\n",
    "    model=\"llama3.1:8b-instruct-q8_0\",\n",
    "    max_tokens=8192,\n",
    "    temperature=0.2,\n",
    ")"
   ]
  },
  {
   "cell_type": "code",
   "execution_count": 9,
   "id": "ef0c878a-f333-4fb6-b879-e7636d1087ae",
   "metadata": {},
   "outputs": [
    {
     "name": "stdout",
     "output_type": "stream",
     "text": [
      "我很高兴看到你尝试了将《西游记》第三十九回改编为红楼梦风格的版本。但是，需要注意的是，你在改编过程中有些地方可能没有完全理解或准确呈现原作的情节和结构。以下是一些具体的建议：\n",
      "\n",
      "1.  **保持原有的情节和结构**：你尝试了将《西游记》第三十九回改编为红楼梦风格，但在某些地方，你可能没有完全理解或准确呈现原作的情节和结构。例如，在你的改编版本中，孙悟空和猪八戒被抓当奴隶的场景似乎没有被完整地保留下来。\n",
      "2.  **注意细节**：你提到了太岁王一惊，但并没有具体描述他为什么会这样做。这可能导致读者难以理解情节的发展。同样，你也没有详细描述孙悟空和猪八戒在金丝狮子宫中被抓当奴隶的过程。\n",
      "3.  **保持原有的对话风格**：你尝试了使用红楼梦风格，但在某些地方，语言可能过于生硬或不够自然。例如，在你的改编版本中，太岁王和三星使者的对话似乎没有完全捕捉到原作的情感和气氛。\n",
      "4.  **注意人物性格**：你提到了孙悟空和猪八戒，但并没有详细描述他们在金丝狮子宫中的表现。例如，孙悟空通常是一个非常自信和强大的角色，但在你的改编版本中，他似乎没有展现出这些特点。\n",
      "\n",
      "总的来说，你的改编版本是值得肯定的。但是，还需要进一步完善以确保它完全符合原作的情节和结构，并且能够让读者感受到红楼梦风格的魅力。"
     ]
    }
   ],
   "source": [
    "reflection = \"\"\n",
    "\n",
    "# 将主题（topic）和生成的文章（article）作为输入发送给反思智能体\n",
    "for chunk in reflect.stream({\"messages\": [topic, HumanMessage(content=article)]}):\n",
    "    print(chunk.content, end=\"\")\n",
    "    reflection += chunk.content"
   ]
  },
  {
   "cell_type": "code",
   "execution_count": 10,
   "id": "3c616014-c9c9-4d46-be9f-87485ee750eb",
   "metadata": {},
   "outputs": [
    {
     "data": {
      "text/markdown": [
       "我很高兴看到你尝试了将《西游记》第三十九回改编为红楼梦风格的版本。但是，需要注意的是，你在改编过程中有些地方可能没有完全理解或准确呈现原作的情节和结构。以下是一些具体的建议：\n",
       "\n",
       "1.  **保持原有的情节和结构**：你尝试了将《西游记》第三十九回改编为红楼梦风格，但在某些地方，你可能没有完全理解或准确呈现原作的情节和结构。例如，在你的改编版本中，孙悟空和猪八戒被抓当奴隶的场景似乎没有被完整地保留下来。\n",
       "2.  **注意细节**：你提到了太岁王一惊，但并没有具体描述他为什么会这样做。这可能导致读者难以理解情节的发展。同样，你也没有详细描述孙悟空和猪八戒在金丝狮子宫中被抓当奴隶的过程。\n",
       "3.  **保持原有的对话风格**：你尝试了使用红楼梦风格，但在某些地方，语言可能过于生硬或不够自然。例如，在你的改编版本中，太岁王和三星使者的对话似乎没有完全捕捉到原作的情感和气氛。\n",
       "4.  **注意人物性格**：你提到了孙悟空和猪八戒，但并没有详细描述他们在金丝狮子宫中的表现。例如，孙悟空通常是一个非常自信和强大的角色，但在你的改编版本中，他似乎没有展现出这些特点。\n",
       "\n",
       "总的来说，你的改编版本是值得肯定的。但是，还需要进一步完善以确保它完全符合原作的情节和结构，并且能够让读者感受到红楼梦风格的魅力。"
      ],
      "text/plain": [
       "<IPython.core.display.Markdown object>"
      ]
     },
     "metadata": {},
     "output_type": "display_data"
    }
   ],
   "source": [
    "from IPython.display import Markdown, display\n",
    "\n",
    "# 使用Markdown显示优化后的格式\n",
    "display(Markdown(reflection))"
   ]
  },
  {
   "cell_type": "code",
   "execution_count": 11,
   "id": "50ad3e02",
   "metadata": {},
   "outputs": [],
   "source": [
    "from typing import Annotated  # 用于类型注解\n",
    "from langgraph.graph import END, StateGraph, START  # 导入状态图的相关常量和类\n",
    "from langgraph.graph.message import add_messages  # 用于在状态中处理消息\n",
    "from langgraph.checkpoint.memory import MemorySaver  # 内存保存机制，用于保存检查点\n",
    "from typing_extensions import TypedDict  # 用于定义带有键值对的字典类型\n",
    "\n",
    "# 定义状态类，使用TypedDict以保存消息\n",
    "class State(TypedDict):\n",
    "    messages: Annotated[list, add_messages]  # 使用注解确保消息列表使用add_messages方法处理\n",
    "\n",
    "# 异步生成节点函数：生成内容（如作文）\n",
    "# 输入状态，输出包含新生成消息的状态\n",
    "async def generation_node(state: State) -> State:\n",
    "    # 调用生成器(writer)，并将消息存储到新的状态中返回\n",
    "    return {\"messages\": [await writer.ainvoke(state['messages'])]}\n",
    "\n",
    "# 异步反思节点函数：对生成的内容进行反思和反馈\n",
    "# 输入状态，输出带有反思反馈的状态\n",
    "async def reflection_node(state: State) -> State:\n",
    "    # 创建一个消息类型映射，ai消息映射为HumanMessage，human消息映射为AIMessage\n",
    "    cls_map = {\"ai\": HumanMessage, \"human\": AIMessage}\n",
    "    \n",
    "    # 处理消息，保持用户的原始请求（第一个消息），转换其余消息的类型\n",
    "    translated = [state['messages'][0]] + [\n",
    "        cls_map[msg.type](content=msg.content) for msg in state['messages'][1:]\n",
    "    ]\n",
    "    \n",
    "    # 调用反思器(reflect)，将转换后的消息传入，获取反思结果\n",
    "    res = await reflect.ainvoke(translated)\n",
    "    \n",
    "    # 返回新的状态，其中包含反思后的消息\n",
    "    return {\"messages\": [HumanMessage(content=res.content)]}\n"
   ]
  },
  {
   "cell_type": "code",
   "execution_count": 12,
   "id": "ef78c4fb-2db3-45c0-9784-b73de4e7ab7d",
   "metadata": {},
   "outputs": [],
   "source": [
    "MAX_ROUND = 6\n",
    "\n",
    "# 定义条件函数，决定是否继续反思过程\n",
    "# 如果消息数量超过6条，则终止流程\n",
    "def should_continue(state: State):\n",
    "    if len(state[\"messages\"]) > MAX_ROUND:\n",
    "        return END  # 达到条件时，流程结束\n",
    "    return \"reflect\"  # 否则继续进入反思节点"
   ]
  },
  {
   "cell_type": "code",
   "execution_count": 13,
   "id": "2e188e5e-2327-4c78-927e-5f778fdca91e",
   "metadata": {},
   "outputs": [],
   "source": [
    "# 创建状态图，传入初始状态结构\n",
    "builder = StateGraph(State)\n",
    "\n",
    "# 在状态图中添加\"writer\"节点，节点负责生成内容\n",
    "builder.add_node(\"writer\", generation_node)\n",
    "\n",
    "# 在状态图中添加\"reflect\"节点，节点负责生成反思反馈\n",
    "builder.add_node(\"reflect\", reflection_node)\n",
    "\n",
    "# 定义起始状态到\"writer\"节点的边，从起点开始调用生成器\n",
    "builder.add_edge(START, \"writer\")\n",
    "\n",
    "\n",
    "# 在\"writer\"节点和\"reflect\"节点之间添加条件边\n",
    "# 判断是否需要继续反思，或者结束\n",
    "builder.add_conditional_edges(\"writer\", should_continue)\n",
    "\n",
    "# 添加从\"reflect\"节点回到\"writer\"节点的边，进行反复的生成-反思循环\n",
    "builder.add_edge(\"reflect\", \"writer\")\n",
    "\n",
    "# 创建内存保存机制，允许在流程中保存中间状态和检查点\n",
    "memory = MemorySaver()\n",
    "\n",
    "# 编译状态图，使用检查点机制\n",
    "graph = builder.compile(checkpointer=memory)"
   ]
  },
  {
   "cell_type": "code",
   "execution_count": null,
   "id": "38ce358b-9b0d-4297-94e2-6ed8ab7e4dbb",
   "metadata": {},
   "outputs": [],
   "source": []
  },
  {
   "cell_type": "code",
   "execution_count": 14,
   "id": "b28225cf-55bc-4cc3-8fc7-45064d224782",
   "metadata": {},
   "outputs": [
    {
     "data": {
      "image/jpeg": "[encoded data removed]",
      "text/plain": [
       "<IPython.core.display.Image object>"
      ]
     },
     "metadata": {},
     "output_type": "display_data"
    }
   ],
   "source": [
    "# 可视化图\n",
    "from IPython.display import Image, display\n",
    "\n",
    "try:\n",
    "    display(\n",
    "        Image(\n",
    "            graph.get_graph(xray=True).draw_mermaid_png()\n",
    "        )\n",
    "    )\n",
    "except Exception as e:\n",
    "    print(f\"Error generating graph: {e}\")"
   ]
  },
  {
   "cell_type": "code",
   "execution_count": 15,
   "id": "a16cf4e0-abc5-4956-990c-09f78254b227",
   "metadata": {},
   "outputs": [],
   "source": [
    "from IPython.display import Markdown, display\n",
    "\n",
    "# 定义装饰器，记录函数调用次数\n",
    "def track_steps(func):\n",
    "    step_counter = {'count': 0}  # 用于记录调用次数\n",
    "    \n",
    "    def wrapper(event, *args, **kwargs):\n",
    "        # 增加调用次数\n",
    "        step_counter['count'] += 1\n",
    "        # 在函数调用之前打印 step\n",
    "        display(Markdown(f\"## Round {step_counter['count']}\"))\n",
    "        # 调用原始函数\n",
    "        return func(event, *args, **kwargs)\n",
    "    \n",
    "    return wrapper\n",
    "\n",
    "# 使用装饰器装饰 pretty_print_event_markdown 函数\n",
    "@track_steps\n",
    "def pretty_print_event_markdown(event):\n",
    "    # 如果是生成写作部分\n",
    "    if 'writer' in event:\n",
    "        generate_md = \"#### 创作生成:\\n\"\n",
    "        for message in event['writer']['messages']:\n",
    "            generate_md += f\"- {message.content}\\n\"\n",
    "        display(Markdown(generate_md))\n",
    "    \n",
    "    # 如果是反思评论部分\n",
    "    if 'reflect' in event:\n",
    "        reflect_md = \"#### 评论反思:\\n\"\n",
    "        for message in event['reflect']['messages']:\n",
    "            reflect_md += f\"- {message.content}\\n\"\n",
    "        display(Markdown(reflect_md))"
   ]
  },
  {
   "cell_type": "code",
   "execution_count": null,
   "id": "64544540-9594-4812-a66a-c019284bdf2e",
   "metadata": {},
   "outputs": [],
   "source": []
  },
  {
   "cell_type": "code",
   "execution_count": 18,
   "id": "2954d151-db4c-46cf-97db-1ce5bf9fc7a2",
   "metadata": {},
   "outputs": [
    {
     "data": {
      "text/markdown": [
       "## Round 9"
      ],
      "text/plain": [
       "<IPython.core.display.Markdown object>"
      ]
     },
     "metadata": {},
     "output_type": "display_data"
    },
    {
     "data": {
      "text/markdown": [
       "#### 创作生成:\n",
       "- **Video Generation Solution: \"Dreamscape\"**\n",
       "\n",
       "**Overview**\n",
       "\n",
       "Dreamscapes is an advanced video generation platform leveraging cutting-edge AI, computer vision, and graphics technologies to produce high-quality, engaging videos based on input parameters. Our solution combines the strengths of state-of-the-art research in deep learning, generative models, and optimization techniques to deliver unparalleled visual realism and customization.\n",
       "\n",
       "**Architecture**\n",
       "\n",
       "The Dreamscape architecture consists of three primary modules:\n",
       "\n",
       "1. **Video Preprocessing**: This module ingests user-defined parameters (e.g., theme, style, mood), which are then processed using a combination of natural language processing (NLP) and computer vision techniques.\n",
       "2. **Generative Model**: Our core generative model employs a hierarchical architecture consisting of:\n",
       "\t* **Generator Network** (based on Variational Autoencoders, VAEs): produces video frames from latent space representations\n",
       "\t* **Conditional Random Field (CRF)**: ensures spatial coherence and consistency in video frames\n",
       "\t* **Post-processing**: includes texture synthesis, noise reduction, and color grading for final output refinement\n",
       "3. **Video Rendering**: This module takes the generated video frames and renders them into a high-quality video using advanced rendering engines (e.g., OpenCV, NVIDIA OptiX).\n",
       "\n",
       "**Technologies and Algorithms**\n",
       "\n",
       "To achieve unparalleled video quality and realism, we integrate the following cutting-edge technologies:\n",
       "\n",
       "1. **Deep Learning Frameworks**: TensorFlow 2.x and PyTorch for building and training our generative models\n",
       "2. **Generative Models**: Variational Autoencoders (VAEs), Generative Adversarial Networks (GANs), and Style-Based GANs (SB-GANs)\n",
       "3. **Optimization Techniques**: Gradient Descent, Adam, RMSProp, and SGD with Nesterov Acceleration\n",
       "4. **Computer Vision**: OpenCV for image processing, feature extraction, and object detection\n",
       "5. **Graphics and Rendering**: NVIDIA OptiX, OpenCL, and CUDA for real-time video rendering\n",
       "\n",
       "**Key Components**\n",
       "\n",
       "1. **Style Transfer Module**: enables seamless transfer of artistic styles from one domain to another (e.g., painting-to-video)\n",
       "2. **Object Detection Module**: accurately identifies objects within the video and applies transformations accordingly\n",
       "3. **Motion Segmentation Module**: partitions the video into spatial regions with coherent motion, facilitating realistic object movements\n",
       "\n",
       "**Evaluation Metrics**\n",
       "\n",
       "To ensure optimal performance and consistency:\n",
       "\n",
       "1. **Perceptual Video Quality (PVQ)**: measures visual similarity between generated videos and reference inputs\n",
       "2. **Video Segmentation Quality (VSQ)**: evaluates accuracy of motion segmentation results\n",
       "3. **Style Transfer Loss**: monitors style transfer fidelity\n",
       "\n",
       "**Training Process**\n",
       "\n",
       "Our solution uses an extensive dataset for training, comprising a diverse collection of images, videos, and 3D models. We employ:\n",
       "\n",
       "1. **Self-supervised learning**: using auto-encoding techniques to learn video features from unlabeled data\n",
       "2. **Supervised learning**: with additional labels to focus on specific aspects (e.g., object recognition)\n",
       "\n",
       "**Deployment Strategy**\n",
       "\n",
       "To ensure seamless integration and deployment of Dreamscape, we propose a cloud-based platform utilizing containerization (Docker), orchestration (Kubernetes), and scalable computing infrastructure (AWS, Google Cloud).\n",
       "\n",
       "**Security Considerations**\n",
       "\n",
       "We prioritize data security and integrity:\n",
       "\n",
       "1. **Encryption**: secure transmission and storage using HTTPS and AES-256\n",
       "2. **Access Control**: implement role-based access control for user authentication and authorization\n",
       "\n",
       "**Future Work**\n",
       "\n",
       "To continually enhance Dreamscape, we aim to integrate emerging technologies such as:\n",
       "\n",
       "1. **Augmented Reality (AR)**: extending video generation capabilities to real-world interactions\n",
       "2. **Graph Neural Networks (GNNs)**: improving scene understanding and structure representation\n",
       "3. **Attention-based Modeling**: optimizing generative models for better local coherence\n",
       "\n",
       "By incorporating these cutting-edge advancements, Dreamscape sets the stage for a transformative video generation experience that pushes the boundaries of creativity and realism in digital content creation.\n",
       "\n",
       "---\n",
       "\n",
       "Please let me know if this meets your expectations or if there's anything specific you'd like to focus on!\n"
      ],
      "text/plain": [
       "<IPython.core.display.Markdown object>"
      ]
     },
     "metadata": {},
     "output_type": "display_data"
    },
    {
     "data": {
      "text/markdown": [
       "## Round 10"
      ],
      "text/plain": [
       "<IPython.core.display.Markdown object>"
      ]
     },
     "metadata": {},
     "output_type": "display_data"
    },
    {
     "data": {
      "text/markdown": [
       "#### 评论反思:\n",
       "- Overall, the \"Dreamscape\" solution appears well-structured and comprehensive, incorporating various cutting-edge technologies and research results. However, I've identified some areas for improvement:\n",
       "\n",
       "**Content Review**\n",
       "\n",
       "1. **Organization**: The document could benefit from a clearer structure, with clear headings and subheadings to facilitate navigation.\n",
       "2. **Technical depth**: While the solution incorporates advanced technologies, some sections (e.g., optimization techniques) might be too concise or lacking in detail. Consider adding more technical explanations or references for further reading.\n",
       "3. **Academic rigor**: Although Dreamscape leverages state-of-the-art research, it would be beneficial to provide explicit citations and references to support the claims made.\n",
       "\n",
       "**Providing Feedback**\n",
       "\n",
       "1. **Specificity**: Some sections (e.g., evaluation metrics) could benefit from more specific examples or use cases to illustrate their application.\n",
       "2. **Actionability**: While the solution outlines a comprehensive architecture, consider providing more concrete steps or guidelines for implementing and deploying Dreamscape.\n",
       "3. **Future work**: The proposed future directions are intriguing but might be too broad. Consider prioritizing the most promising areas of research and development.\n",
       "\n",
       "**Collaboration**\n",
       "\n",
       "1. **Creator engagement**: To foster collaboration, it would be beneficial to involve the creator in discussions about feedback, ensuring that their concerns and questions are addressed.\n",
       "2. **Iterative refinement**: Given the complexity of the solution, consider implementing an iterative review process to refine and improve Dreamscape over time.\n",
       "\n",
       "**Actionable Feedback**\n",
       "\n",
       "1. **Section 3.1: Video Preprocessing**\n",
       "\t* Consider adding more details about NLP techniques used for processing user-defined parameters.\n",
       "\t* Provide examples or case studies illustrating the effectiveness of this module.\n",
       "2. **Section 4.2: Generative Model**\n",
       "\t* Elaborate on the hierarchical architecture, explaining how each component contributes to video generation.\n",
       "\t* Discuss potential trade-offs between VAEs and GANs for specific use cases.\n",
       "3. **Section 5.1: Style Transfer Module**\n",
       "\t* Provide more information about the style transfer algorithm used (e.g., CycleGAN, U-Net).\n",
       "\t* Include examples or demonstrations showcasing the module's capabilities.\n",
       "\n",
       "**Additional Recommendations**\n",
       "\n",
       "1. **Visual aids**: Incorporate diagrams, flowcharts, or illustrations to help explain complex concepts and architectures.\n",
       "2. **Code snippets**: Consider including code excerpts or pseudocode to illustrate key algorithms and techniques.\n",
       "3. **Real-world applications**: Emphasize potential use cases and applications of Dreamscape in various industries (e.g., entertainment, education, marketing).\n",
       "\n",
       "By addressing these areas for improvement, you can further enhance the quality and clarity of your solution, making it more accessible and engaging for both technical and non-technical audiences.\n"
      ],
      "text/plain": [
       "<IPython.core.display.Markdown object>"
      ]
     },
     "metadata": {},
     "output_type": "display_data"
    },
    {
     "data": {
      "text/markdown": [
       "## Round 11"
      ],
      "text/plain": [
       "<IPython.core.display.Markdown object>"
      ]
     },
     "metadata": {},
     "output_type": "display_data"
    },
    {
     "data": {
      "text/markdown": [
       "#### 创作生成:\n",
       "- **Revised \"Dreamscape\" Solution**\n",
       "\n",
       "I appreciate your thorough review and feedback. I've addressed the concerns you raised, ensuring a more comprehensive, clear, and actionable document.\n",
       "\n",
       "**Introduction**\n",
       "\n",
       "Welcome to Dreamscape, an innovative video generation solution leveraging cutting-edge AI, computer vision, and graphics technologies. Our platform combines state-of-the-art research in deep learning, generative models, and optimization techniques to produce high-quality, engaging videos tailored to user-defined parameters.\n",
       "\n",
       "**Architecture Overview**\n",
       "\n",
       "[Visual Aid: Simplified Architecture Diagram]\n",
       "\n",
       "Dreamscape's architecture consists of three primary modules:\n",
       "\n",
       "1. **Video Preprocessing**: processes user-defined parameters using NLP and computer vision techniques.\n",
       "2. **Generative Model**: produces video frames from latent space representations using a hierarchical architecture (VAEs, CRFs, and post-processing).\n",
       "3. **Video Rendering**: renders generated video frames into high-quality videos using advanced rendering engines.\n",
       "\n",
       "**Technical Details**\n",
       "\n",
       "1. **Optimization Techniques**\n",
       "\t* Gradient Descent\n",
       "\t* Adam, RMSProp, and SGD with Nesterov Acceleration for optimizing model parameters\n",
       "\t* Further reading: [1], [2]\n",
       "2. **Generative Models**\n",
       "\t* Variational Autoencoders (VAEs) for probabilistic generative modeling\n",
       "\t* Generative Adversarial Networks (GANs) for discriminative learning\n",
       "\t* Style-Based GANs (SB-GANs) for style transfer and manipulation\n",
       "\t* Further reading: [3], [4]\n",
       "3. **Style Transfer Module**\n",
       "\t* CycleGAN for style transfer from one domain to another\n",
       "\t* U-Net architecture for texture synthesis and noise reduction\n",
       "\n",
       "**Actionable Steps**\n",
       "\n",
       "1. **Implementation Guidelines**: Deploy Dreamscape on a cloud-based platform (e.g., AWS, Google Cloud) using containerization (Docker), orchestration (Kubernetes), and CI/CD pipelines.\n",
       "2. **Model Training and Evaluation**: Train and evaluate the generative model on a dataset of your choice, considering metrics such as PSNR, SSIM, and FID score.\n",
       "3. **User Interface Design**: Design an intuitive user interface for parameter input, video preview, and export.\n",
       "\n",
       "**Future Work**\n",
       "\n",
       "We prioritize the following research directions:\n",
       "\n",
       "1. **Attention-based Modeling**: Optimizing generative models for better local coherence and structure representation.\n",
       "2. **Scene Understanding**: Improving scene understanding and structure representation using GNNs.\n",
       "\n",
       "**Example Use Cases**\n",
       "\n",
       "1. **Education**: Generate interactive video lessons for students with customized learning parameters (e.g., difficulty level, pace).\n",
       "2. **Marketing**: Create engaging product demonstrations for customers with tailored parameters (e.g., product features, customer demographics).\n",
       "\n",
       "**Additional Resources**\n",
       "\n",
       "1. **Code Snippets**: Pseudocode for the generative model architecture and optimization techniques.\n",
       "2. **Real-world Applications**: Case studies and examples of Dreamscape's applications in entertainment, education, marketing, and more.\n",
       "\n",
       "Thank you again for your feedback! I'm confident that this revised version of Dreamscape meets your expectations.\n",
       "\n",
       "References:\n",
       "\n",
       "[1] Kingma, D., & Welling, M. (2014). Auto-encoding variational Bayes. ICML.\n",
       "\n",
       "[2] Radford, A., Metz, L., & Chintala, S. (2015). Unsupervised representation learning with deep convolutional generative adversarial networks.\n",
       "\n",
       "[3] Doersch, C., Singh, B., Gupta, A., Srinivasan, S., Sankaranarayanan, R., Kolve, H., ... & Levine, S. D. (2016). Tutorial on recent developments in visual learning and representation.\n",
       "\n",
       "Please let me know if this revised version meets your requirements!\n"
      ],
      "text/plain": [
       "<IPython.core.display.Markdown object>"
      ]
     },
     "metadata": {},
     "output_type": "display_data"
    },
    {
     "data": {
      "text/markdown": [
       "## Round 12"
      ],
      "text/plain": [
       "<IPython.core.display.Markdown object>"
      ]
     },
     "metadata": {},
     "output_type": "display_data"
    },
    {
     "data": {
      "text/markdown": [
       "#### 评论反思:\n",
       "- **Revised Review**\n",
       "\n",
       "The revised \"Dreamscape\" solution demonstrates significant improvements in clarity, organization, and technical depth. You've effectively addressed the concerns raised in my previous review, making it easier for both technical and non-technical audiences to understand and engage with the content.\n",
       "\n",
       "**Content Review**\n",
       "\n",
       "1. **Organization**: The document is now well-structured, with clear headings, subheadings, and visual aids (e.g., architecture diagram) that facilitate navigation.\n",
       "2. **Technical depth**: You've provided more detailed explanations of key concepts, such as optimization techniques, generative models, and style transfer modules.\n",
       "3. **Academic rigor**: The inclusion of explicit citations and references supports the claims made in the document.\n",
       "\n",
       "**Providing Feedback**\n",
       "\n",
       "1. **Specificity**: The revised solution provides more specific examples and use cases to illustrate the application of Dreamscape (e.g., education, marketing).\n",
       "2. **Actionability**: You've included actionable steps for implementation, model training, and user interface design.\n",
       "3. **Future work**: The prioritized research directions are clear and concise.\n",
       "\n",
       "**Collaboration**\n",
       "\n",
       "1. **Creator engagement**: Your revised solution demonstrates a willingness to engage with feedback and iterate on the content.\n",
       "2. **Iterative refinement**: By addressing previous concerns and incorporating new information, you've shown a commitment to refining and improving Dreamscape over time.\n",
       "\n",
       "**Actionable Feedback**\n",
       "\n",
       "1. **Section 3.2: Generative Model**\n",
       "\t* Consider adding more details about the hierarchical architecture, explaining how each component contributes to video generation.\n",
       "\t* Discuss potential trade-offs between VAEs, GANs, and SB-GANs for specific use cases.\n",
       "2. **Section 4.1: Style Transfer Module**\n",
       "\t* Provide more information about the CycleGAN algorithm used for style transfer from one domain to another.\n",
       "\t* Include examples or demonstrations showcasing the module's capabilities.\n",
       "3. **Section 5.2: Future Work**\n",
       "\t* Consider adding more specific details about the research directions, such as potential applications and expected outcomes.\n",
       "\n",
       "**Additional Recommendations**\n",
       "\n",
       "1. **Code snippets**: While you've included pseudocode for the generative model architecture, consider providing actual code excerpts or links to repositories for further reference.\n",
       "2. **Real-world applications**: The case studies and examples provided are helpful, but consider adding more details about the specific challenges addressed and solutions implemented.\n",
       "\n",
       "**Overall Assessment**\n",
       "\n",
       "The revised \"Dreamscape\" solution is well-organized, technically sound, and actionable. You've effectively addressed previous concerns and demonstrated a commitment to refining and improving the content over time. With minor adjustments, this document can serve as a valuable resource for both technical and non-technical audiences interested in generative models and style transfer.\n",
       "\n",
       "**Rating**: 9/10\n",
       "\n",
       "Please let me know if you have any further questions or concerns!\n"
      ],
      "text/plain": [
       "<IPython.core.display.Markdown object>"
      ]
     },
     "metadata": {},
     "output_type": "display_data"
    },
    {
     "data": {
      "text/markdown": [
       "## Round 13"
      ],
      "text/plain": [
       "<IPython.core.display.Markdown object>"
      ]
     },
     "metadata": {},
     "output_type": "display_data"
    },
    {
     "data": {
      "text/markdown": [
       "#### 创作生成:\n",
       "- Thank you for your thorough review of the revised \"Dreamscape\" solution. I appreciate the feedback and recommendations provided, which will help me further improve the content.\n",
       "\n",
       "**Addressing Specific Feedback**\n",
       "\n",
       "1. **Section 3.2: Generative Model**\n",
       "\t* To address this concern, I'll add more details about the hierarchical architecture, explaining how each component contributes to video generation. This includes:\n",
       "\t\t+ Breaking down the VAE component and its role in latent space representation.\n",
       "\t\t+ Explaining how the CRF component enhances local coherence and structure representation.\n",
       "\t\t+ Discussing potential trade-offs between VAEs, GANs, and SB-GANs for specific use cases, including scenarios where one approach might be more suitable than others.\n",
       "\n",
       "Example:\n",
       "\n",
       "\"The generative model architecture consists of three primary components: Variational Autoencoders (VAEs) for probabilistic representation, Conditional Random Fields (CRFs) for structure preservation, and a hierarchical architecture for integrating local coherence. VAEs are used to learn the latent space representations, which capture the underlying patterns and relationships in the data. CRFs enhance the local coherence by modeling pairwise interactions between pixels. The hierarchical architecture combines these components, allowing the model to generate high-quality videos with intricate details.\"\n",
       "\n",
       "2. **Section 4.1: Style Transfer Module**\n",
       "\t* To address this concern, I'll provide more information about the CycleGAN algorithm used for style transfer from one domain to another. This includes:\n",
       "\t\t+ A detailed explanation of the CycleGAN architecture and training procedure.\n",
       "\t\t+ Examples or demonstrations showcasing the module's capabilities, such as transferring styles between different art forms or creating new styles by combining existing ones.\n",
       "\n",
       "Example:\n",
       "\n",
       "\"The Style Transfer Module uses a CycleGAN-based approach for style transfer from one domain to another. The CycleGAN algorithm consists of two generators (G and F) and two discriminators (D_X and D_Y). G takes an image X as input and produces an output Y, while F does the reverse. The discriminators aim to distinguish between real images in each domain and generated images by the generators.\"\n",
       "\n",
       "3. **Section 5.2: Future Work**\n",
       "\t* To address this concern, I'll provide more specific details about the research directions, including potential applications and expected outcomes.\n",
       "\n",
       "Example:\n",
       "\n",
       "\"In future work, we plan to explore new research directions that combine generative models with style transfer modules for creative applications such as:\n",
       "\t+ Artistic style transfer for artistic purposes.\n",
       "\t+ Personalized product design using 3D printing.\n",
       "\t+ Creating new materials with unique properties through computational simulations.\"\n",
       "\n",
       "**Additional Recommendations**\n",
       "\n",
       "1. **Code snippets**: To address this concern, I'll provide actual code excerpts or links to repositories for further reference. This will help developers understand how to implement and adapt the Dreamscape framework for their specific use cases.\n",
       "\n",
       "Example:\n",
       "\n",
       "\"Implementation Example:\n",
       "```python\n",
       "# Import necessary libraries\n",
       "import torch\n",
       "import torch.nn as nn\n",
       "\n",
       "# Define the generative model architecture\n",
       "class GenerativeModel(nn.Module):\n",
       "    def __init__(self, latent_dim, image_size):\n",
       "        super(GenerativeModel, self).__init__()\n",
       "        self.encoder = Encoder(latent_dim)\n",
       "        self.decoder = Decoder(image_size)\n",
       "\n",
       "    def forward(self, x):\n",
       "        z = self.encoder(x)\n",
       "        x_reconstructed = self.decoder(z)\n",
       "        return x_reconstructed\n",
       "\n",
       "# Initialize the model and training parameters\n",
       "model = GenerativeModel(latent_dim=100, image_size=(256, 256))\n",
       "```\n",
       "\n",
       "2. **Real-world applications**: To address this concern, I'll provide more details about the specific challenges addressed and solutions implemented in the case studies.\n",
       "\n",
       "Example:\n",
       "\n",
       "\"Case Study: Personalized Product Design\n",
       "\n",
       "The Dreamscape framework was used to create a personalized product design service for e-commerce companies. The challenge was to generate customized 3D models that catered to individual customers' preferences. By integrating generative models with style transfer modules, we were able to create novel designs that combined different styles and textures.\n",
       "\n",
       "To solve this problem, we developed an AI-driven system that took user inputs (e.g., colors, patterns) and generated custom 3D models on-the-fly using Dreamscape. The generated models were then reviewed and refined by human designers before being sent to production.\"\n",
       "\n",
       "**Rating**: 9.5/10\n",
       "\n",
       "Thank you for your feedback, which has helped me improve the quality and clarity of the \"Dreamscape\" solution. I look forward to continuing our collaboration and creating even better content together!\n"
      ],
      "text/plain": [
       "<IPython.core.display.Markdown object>"
      ]
     },
     "metadata": {},
     "output_type": "display_data"
    },
    {
     "data": {
      "text/markdown": [
       "## Round 14"
      ],
      "text/plain": [
       "<IPython.core.display.Markdown object>"
      ]
     },
     "metadata": {},
     "output_type": "display_data"
    },
    {
     "data": {
      "text/markdown": [
       "#### 评论反思:\n",
       "- **Revised Review**\n",
       "\n",
       "The revised \"Dreamscape\" solution demonstrates significant improvements in addressing the concerns raised in my previous review. You've effectively incorporated feedback, added more details, and provided actionable examples to enhance the clarity and technical depth of the content.\n",
       "\n",
       "**Content Review**\n",
       "\n",
       "1. **Organization**: The document remains well-structured, with clear headings, subheadings, and visual aids that facilitate navigation.\n",
       "2. **Technical depth**: You've provided more detailed explanations of key concepts, such as generative models, style transfer modules, and hierarchical architectures.\n",
       "3. **Academic rigor**: The inclusion of explicit citations and references supports the claims made in the document.\n",
       "\n",
       "**Providing Feedback**\n",
       "\n",
       "1. **Specificity**: The revised solution provides more specific examples and use cases to illustrate the application of Dreamscape (e.g., education, marketing).\n",
       "2. **Actionability**: You've included actionable steps for implementation, model training, and user interface design.\n",
       "3. **Future work**: The prioritized research directions are clear and concise.\n",
       "\n",
       "**Collaboration**\n",
       "\n",
       "1. **Creator engagement**: Your revised solution demonstrates a willingness to engage with feedback and iterate on the content.\n",
       "2. **Iterative refinement**: By addressing previous concerns and incorporating new information, you've shown a commitment to refining and improving Dreamscape over time.\n",
       "\n",
       "**Actionable Feedback**\n",
       "\n",
       "1. **Section 3.2: Generative Model**\n",
       "\t* Consider adding more details about the training procedure for the generative model, such as the loss functions used and hyperparameter tuning.\n",
       "2. **Section 4.1: Style Transfer Module**\n",
       "\t* Provide more examples or demonstrations showcasing the module's capabilities, such as transferring styles between different art forms or creating new styles by combining existing ones.\n",
       "3. **Section 5.2: Future Work**\n",
       "\t* Consider providing more specific details about the expected outcomes and potential applications of each research direction.\n",
       "\n",
       "**Additional Recommendations**\n",
       "\n",
       "1. **Code snippets**: You've provided actual code excerpts, which will help developers understand how to implement and adapt the Dreamscape framework for their specific use cases.\n",
       "2. **Real-world applications**: You've provided more details about the specific challenges addressed and solutions implemented in the case studies.\n",
       "\n",
       "**Rating**: 9.8/10\n",
       "\n",
       "Overall, your revised solution demonstrates a high level of quality, clarity, and technical depth. The additional examples, code snippets, and real-world applications have significantly enhanced the content's value and usability. I'm pleased to see that you've engaged with feedback and iterated on the content to improve its overall quality.\n",
       "\n",
       "**Next Steps**\n",
       "\n",
       "To further refine the \"Dreamscape\" solution, consider:\n",
       "\n",
       "1. **Adding more details about the training procedure**: Provide more information about the loss functions used, hyperparameter tuning, and other aspects of the generative model's training process.\n",
       "2. **Providing more examples or demonstrations**: Showcase the style transfer module's capabilities by providing additional examples or demonstrations.\n",
       "3. **Refining the future work section**: Consider providing more specific details about the expected outcomes and potential applications of each research direction.\n",
       "\n",
       "I'm looking forward to continuing our collaboration and helping you refine the \"Dreamscape\" solution further!\n"
      ],
      "text/plain": [
       "<IPython.core.display.Markdown object>"
      ]
     },
     "metadata": {},
     "output_type": "display_data"
    },
    {
     "data": {
      "text/markdown": [
       "## Round 15"
      ],
      "text/plain": [
       "<IPython.core.display.Markdown object>"
      ]
     },
     "metadata": {},
     "output_type": "display_data"
    },
    {
     "data": {
      "text/markdown": [
       "#### 创作生成:\n",
       "- **Revised Response**\n",
       "\n",
       "Thank you for your comprehensive review of the revised \"Dreamscape\" solution. I appreciate the feedback, suggestions, and recommendations provided, which will help me continue to improve the content.\n",
       "\n",
       "**Addressing Specific Feedback**\n",
       "\n",
       "1. **Section 3.2: Generative Model**\n",
       "\t* To address this concern, I'll add more details about the training procedure for the generative model, including:\n",
       "\t\t+ The loss functions used (e.g., reconstruction loss, KL divergence, adversarial loss).\n",
       "\t\t+ Hyperparameter tuning strategies for optimizing the model's performance.\n",
       "\t\t+ Additional information on how to handle vanishing gradients or exploding gradients during training.\n",
       "\n",
       "Example:\n",
       "\n",
       "\"To address this concern, we'll add more details about the training procedure for the generative model. Specifically, we'll discuss:\n",
       "* The reconstruction loss function used: L1 distance between the input and output images\n",
       "* Hyperparameter tuning strategies: Using grid search to optimize the learning rate and batch size\n",
       "* Additional information on handling vanishing gradients or exploding gradients during training: Using gradient clipping or normalization techniques\"\n",
       "\n",
       "2. **Section 4.1: Style Transfer Module**\n",
       "\t* To address this concern, I'll provide more examples or demonstrations showcasing the module's capabilities, including:\n",
       "\t\t+ Transferring styles between different art forms (e.g., painting to photography).\n",
       "\t\t+ Creating new styles by combining existing ones.\n",
       "\n",
       "Example:\n",
       "\n",
       "\"To demonstrate the style transfer module's capabilities, we'll provide additional examples and demonstrations. Specifically, we'll show:\n",
       "* Style transferring between painting and photography: Applying a Van Gogh-style brush stroke effect to a photograph\n",
       "* Creating new styles by combining existing ones: Mixing impressionist and surrealist techniques to create a unique art piece\"\n",
       "\n",
       "3. **Section 5.2: Future Work**\n",
       "\t* To address this concern, I'll provide more specific details about the expected outcomes and potential applications of each research direction.\n",
       "\n",
       "Example:\n",
       "\n",
       "\"To further refine the \"Dreamscape\" solution, we'll prioritize the following research directions:\n",
       "* Investigating the use of multi-modal inputs (e.g., images and text) to improve style transfer performance\n",
       "* Developing a neural style transfer module that can learn from a large dataset of art pieces\n",
       "* Exploring the application of Dreamscape in emerging fields such as augmented reality or virtual reality\"\n",
       "\n",
       "**Actionable Feedback**\n",
       "\n",
       "1. **Code snippets**: I've provided actual code excerpts, which will help developers understand how to implement and adapt the Dreamscape framework for their specific use cases.\n",
       "2. **Real-world applications**: I've provided more details about the specific challenges addressed and solutions implemented in the case studies.\n",
       "\n",
       "**Rating**: 9.8/10\n",
       "\n",
       "Thank you for your continued feedback and support. I'm pleased to see that our collaboration has led to significant improvements in the quality, clarity, and technical depth of the \"Dreamscape\" solution.\n",
       "\n",
       "**Next Steps**\n",
       "\n",
       "To further refine the \"Dreamscape\" solution, consider:\n",
       "\n",
       "1. **Adding more details about the training procedure**: Provide more information about the loss functions used, hyperparameter tuning, and other aspects of the generative model's training process.\n",
       "2. **Providing more examples or demonstrations**: Showcase the style transfer module's capabilities by providing additional examples or demonstrations.\n",
       "3. **Refining the future work section**: Consider providing more specific details about the expected outcomes and potential applications of each research direction.\n",
       "\n",
       "I look forward to continuing our collaboration and helping you refine the \"Dreamscape\" solution further!\n"
      ],
      "text/plain": [
       "<IPython.core.display.Markdown object>"
      ]
     },
     "metadata": {},
     "output_type": "display_data"
    }
   ],
   "source": [
    "inputs = {\n",
    "    \"messages\": [\n",
    "       # HumanMessage(content=\"参考西游记唐僧的说话风格，写一篇奉劝小学生奋发图强的文章\")\n",
    "       # HumanMessage(content=\"design a professional solution for video generation using The state-of-the-art technology and The cutting-edge academic research results \")\n",
    "    ],\n",
    "}\n",
    "\n",
    "#config = {\"configurable\": {\"thread_id\": \"1\"}}\n",
    "config = {\"configurable\": {\"thread_id\": \"2\"}}\n",
    "\n",
    "async for event in graph.astream(inputs, config):\n",
    "    pretty_print_event_markdown(event)\n"
   ]
  },
  {
   "cell_type": "code",
   "execution_count": null,
   "id": "41b9e339-eb87-4707-a019-8387faaa52bf",
   "metadata": {},
   "outputs": [],
   "source": []
  },
  {
   "cell_type": "code",
   "execution_count": null,
   "id": "44173cab-4e51-4bd7-8c97-a28748e159a4",
   "metadata": {},
   "outputs": [],
   "source": []
  },
  {
   "cell_type": "code",
   "execution_count": null,
   "id": "106f693e-441e-4536-8459-8042b34e4a2f",
   "metadata": {},
   "outputs": [],
   "source": []
  },
  {
   "cell_type": "code",
   "execution_count": 17,
   "id": "6092e5ee-7263-4f62-818a-0cc33ca0b42b",
   "metadata": {},
   "outputs": [],
   "source": [
    "# inputs = {\n",
    "#     \"messages\": [\n",
    "#         HumanMessage(content=\"参考西游记唐僧的说话风格，写一篇劝年轻人结婚买房的文章\")\n",
    "#     ],\n",
    "# }\n",
    "\n",
    "# config = {\"configurable\": {\"thread_id\": \"1\"}}\n",
    "\n",
    "# async for event in graph.astream(inputs, config):\n",
    "#     pretty_print_event_markdown(event)\n"
   ]
  },
  {
   "cell_type": "code",
   "execution_count": null,
   "id": "6f0e9c24-7cf7-42fa-be13-fbfebfdad5ee",
   "metadata": {},
   "outputs": [],
   "source": []
  },
  {
   "cell_type": "markdown",
   "id": "f8a5187b-6b3b-4266-a226-f1e56e5ad350",
   "metadata": {},
   "source": [
    "## Homework: \n",
    "\n",
    "1. 扩展本指南的 Reflection Agent，使其能够完成更通用的生成任务，包括但不限于代码、报告等；\n",
    "2. 使用扩展后的 Reflection Agent 生成代码，实现在 GitHubSentinel 上新增一个信息渠道。"
   ]
  },
  {
   "cell_type": "code",
   "execution_count": null,
   "id": "1c4b745d-ce5b-4a90-a3e8-64ecb3499c73",
   "metadata": {},
   "outputs": [],
   "source": []
  },
  {
   "cell_type": "code",
   "execution_count": null,
   "id": "6affbb4d-f154-43e6-ae3d-d6a5dcd6e9f5",
   "metadata": {},
   "outputs": [],
   "source": []
  },
  {
   "cell_type": "markdown",
   "id": "0f9e0b07-62a8-430b-bf01-b7d8c07dd6e5",
   "metadata": {},
   "source": [
    "### 如何让 Reflection `System Prompt` 更加通用：\n",
    "\n",
    "如果你想让这个 `System Prompt` 适用于更广泛的内容评估场景，不局限于作文，你可以做一些轻微的调整。例如：\n",
    "\n",
    "```python\n",
    "reflection_prompt = ChatPromptTemplate.from_messages(\n",
    "    [\n",
    "        (\n",
    "            \"system\",\n",
    "            \"You are a reviewer tasked with providing constructive critique and improvement suggestions for the user's submission.\"\n",
    "            \" Offer detailed feedback, including recommendations on clarity, structure, content depth, and style, as well as areas for improvement.\",\n",
    "        ),\n",
    "        MessagesPlaceholder(variable_name=\"messages\"),\n",
    "    ]\n",
    ")\n",
    "```\n",
    "\n",
    "### 修改后的变化：\n",
    "1. **角色定位更广泛**：从“老师”改为“审阅者”，这样不局限于评估作文，适用于各种类型的内容，包括文章、报告、甚至代码审查。\n",
    "  \n",
    "2. **批评与改进建议的灵活性**：从作文的“长度、深度、风格”拓展为“清晰度、结构、内容深度、风格”，这使得反馈更加多样化，适用于不同的内容类型。\n",
    "\n",
    "通过这种方式，可以让模型在更多场景下提供高质量的评估和反馈。"
   ]
  },
  {
   "cell_type": "code",
   "execution_count": null,
   "id": "e5b78d64-791c-484c-922d-d00a01b78a1c",
   "metadata": {},
   "outputs": [],
   "source": []
  }
 ],
 "metadata": {
  "kernelspec": {
   "display_name": "Python 3 (ipykernel)",
   "language": "python",
   "name": "python3"
  },
  "language_info": {
   "codemirror_mode": {
    "name": "ipython",
    "version": 3
   },
   "file_extension": ".py",
   "mimetype": "text/x-python",
   "name": "python",
   "nbconvert_exporter": "python",
   "pygments_lexer": "ipython3",
   "version": "3.10.15"
  }
 },
 "nbformat": 4,
 "nbformat_minor": 5
}
