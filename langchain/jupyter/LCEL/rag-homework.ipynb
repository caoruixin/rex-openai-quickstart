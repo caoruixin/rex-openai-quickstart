{
 "cells": [
  {
   "cell_type": "code",
   "execution_count": null,
   "id": "06a5b694-e332-4311-a20f-4e55fc9e3cb3",
   "metadata": {},
   "outputs": [],
   "source": [
    "!pip install langchain langchain_community langchain_chroma"
   ]
  },
  {
   "cell_type": "markdown",
   "id": "7f92b317-323a-4cf6-b348-59aef3a8b5a8",
   "metadata": {},
   "source": [
    "## this is a doc ##\n",
    "we will refer to the webpage https://nakamotoinstitute.org/library/bitcoin/"
   ]
  },
  {
   "cell_type": "code",
   "execution_count": 10,
   "id": "fd5318a1-2bb9-45bb-8206-82fcf024c4b3",
   "metadata": {},
   "outputs": [],
   "source": [
    "# 导入必要的库\n",
    "import bs4\n",
    "from langchain_community.document_loaders import WebBaseLoader\n",
    "from langchain_text_splitters import RecursiveCharacterTextSplitter\n",
    "from langchain_chroma import Chroma\n",
    "from langchain_openai import OpenAIEmbeddings\n",
    "from langchain_core.output_parsers import StrOutputParser\n",
    "from langchain_core.runnables import RunnablePassthrough\n",
    "from langchain import hub\n",
    "from langchain_core.prompts import ChatPromptTemplate\n",
    "from langchain_openai import ChatOpenAI"
   ]
  },
  {
   "cell_type": "markdown",
   "id": "aebd3284-1cd1-4f53-b105-7f4f5d70faf3",
   "metadata": {},
   "source": [
    "### Step 1: 加载文档\n",
    "\n",
    "- **描述**: 使用 `DocumentLoader` 从指定来源（如网页）加载内容，并将其转换为 `Document` 对象。\n",
    "- **重要代码抽象**:\n",
    "  - 类: `WebBaseLoader`\n",
    "  - 方法: `load()`\n",
    "  - 库: `bs4` (BeautifulSoup)\n",
    "- **代码解释**:\n",
    "  - **文档加载**: 使用 `WebBaseLoader` 从网页加载内容，并通过 `BeautifulSoup` 解析 HTML，提取重要的部分。\n",
    "  - **检查加载数量**: 打印加载的文档数量，确保所有文档正确加载。\n",
    "  - **验证文档内容**: 输出第一个文档的部分内容，确认加载的数据符合预期。"
   ]
  },
  {
   "cell_type": "code",
   "execution_count": 11,
   "id": "93413927-b9df-435f-9a12-93db2d1d7c07",
   "metadata": {},
   "outputs": [
    {
     "name": "stdout",
     "output_type": "stream",
     "text": [
      "Bitcoin: A Peer-to-Peer Electronic Cash SystemSatoshi NakamotoOctober 31, 2008PDFExternal linkAbstract\n",
      "A purely peer-to-peer version of electronic cash would allow online payments to be sent directly from one party to another without going through a financial institution. Digital signatures provide part of the solution, but the main benefits are lost if a trusted third party is still required to prevent double-spending. We propose a solution to the double-spending problem using a peer-to-peer network. The network timestamps transactions by hashing them into an ongoing chain of hash-based proof-of-work, forming a record that cannot be changed without redoing the proof-of-work. The longest chain not only serves as proof of the sequence of events witnessed, but proof that it came from the largest pool of CPU power. As long as a majority of CPU power is controlled by nodes that are not cooperating to attack the network, they’ll generate the longest chain and outpace attackers. The network itself requires minimal structure. Messages are broadcast on a best effort basis, and nodes can leave and rejoin the network at will, accepting the longest proof-of-work chain as proof of what happened while they were gone.\n",
      "1. Introduction\n",
      "Commerce on the Internet has come to rely almost exclusively on financial institutions serving as trusted third parties to process electronic payments. While the system works well enough for most transactions, it still suffers from the inherent weaknesses of the trust based model. Completely non-reversible transactions are not really possible, since financial institutions cannot avoid mediating disputes. The cost of mediation increases transaction costs, limiting the minimum practical transaction size and cutting off the possibility for small casual transactions, and there is a broader cost in the loss of ability to make non-reversible payments for non-reversible services. With the possibility of reversal, the need for trust spreads. Merchants must be wary of their customers, hassling them for more information than they would otherwise need. A certain percentage of fraud is accepted as unavoidable. These costs and payment uncertainties can be avoided in person by using physical currency, but no mechanism exists to make payments over a communications channel without a trusted party.\n",
      "What is needed is an electronic payment system based on cryptographic proof instead of trust, allowing any two willing parties to transact directly with each other without the need for a trusted third party. Transactions that are computationally impractical to reverse would protect sellers from fraud, and routine escrow mechanisms could easily be implemented to protect buyers. In this paper, we propose a solution to the double-spending problem using a peer-to-peer distributed timestamp server to generate computational proof of the chronological order of transactions. The system is secure as long as honest nodes collectively control more CPU power than any cooperating group of attacker nodes.\n",
      "2. Transactions\n",
      "We define an electronic coin as a chain of digital signatures. Each owner transfers the coin to the next by digitally signing a hash of the previous transaction and the public key of the next owner and adding these to the end of the coin. A payee can verify the signatures to verify the chain of ownership.\n",
      "\n",
      "\n",
      "\n",
      "The problem of course is the payee can’t verify that one of the owners did not double-spend the coin. A common solution is to introduce a trusted central authority, or mint, that checks every transaction for double spending. After each transaction, the coin must be returned to the mint to issue a new coin, and only coins issued directly from the mint are trusted not to be double-spent. The problem with this solution is that the fate of the entire money system depends on the company running the mint, with every transaction having to go through them, just like a bank.\n",
      "We need a way for the payee to know that the previous owners did not sign any earlier transactions. For our purposes, the earliest transaction is the one that counts, so we don’t care about later attempts to double-spend. The only way to confirm the absence of a transaction is to be aware of all transactions. In the mint based model, the mint was aware of all transactions and decided which arrived first. To accomplish this without a trusted party, transactions must be publicly announced[1], and we need a system for participants to agree on a single history of the order in which they were received. The payee needs proof that at the time of each transaction, the majority of nodes agreed it was the first received.\n",
      "3. Timestamp Server\n",
      "The solution we propose begins with a timestamp server. A timestamp server works by taking a hash of a block of items to be timestamped and widely publishing the hash, such as in a newspaper or Usenet post[2-5]. The timestamp proves that the data must have existed at the time, obviously, in order to get into the hash. Each timestamp includes the previous timestamp in its hash, forming a chain, with each additional timestamp reinforcing the ones before it.\n",
      "\n",
      "\n",
      "\n",
      "4. Proof-of-Work\n",
      "To implement a distributed timestamp server on a peer-to-peer basis, we will need to use a proof-of-work system similar to Adam Back’s Hashcash[6], rather than newspaper or Usenet posts. The proof-of-work involves scanning for a value that when hashed, such as with SHA-256, the hash begins with a number of zero bits. The average work required is exponential in the number of zero bits required and can be verified by executing a single hash.\n",
      "For our timestamp network, we implement the proof-of-work by incrementing a nonce in the block until a value is found that gives the block’s hash the required zero bits. Once the CPU effort has been expended to make it satisfy the proof-of-work, the block cannot be changed without redoing the work. As later blocks are chained after it, the work to change the block would include redoing all the blocks after it.\n",
      "\n",
      "\n",
      "\n",
      "The proof-of-work also solves the problem of determining representation in majority decision making. If the majority were based on one-IP-address-one-vote, it could be subverted by anyone able to allocate many IPs. Proof-of-work is essentially one-CPU-one-vote. The majority decision is represented by the longest chain, which has the greatest proof-of-work effort invested in it. If a majority of CPU power is controlled by honest nodes, the honest chain will grow the fastest and outpace any competing chains. To modify a past block, an attacker would have to redo the proof-of-work of the block and all blocks after it and then catch up with and surpass the work of the honest nodes. We will show later that the probability of a slower attacker catching up diminishes exponentially as subsequent blocks are added.\n",
      "To compensate for increasing hardware speed and varying interest in running nodes over time, the proof-of-work difficulty is determined by a moving average targeting an average number of blocks per hour. If they’re generated too fast, the difficulty increases.\n",
      "5. Network\n",
      "The steps to run the network are as follows:\n",
      "\n",
      "New transactions are broadcast to all nodes.\n",
      "Each node collects new transactions into a block.\n",
      "Each node works on finding a difficult proof-of-work for its block.\n",
      "When a node finds a proof-of-work, it broadcasts the block to all nodes.\n",
      "Nodes accept the block only if all transactions in it are valid and not already spent.\n",
      "Nodes express their acceptance of the block by working on creating the next block in the chain, using the hash of the accepted block as the previous hash.\n",
      "\n",
      "Nodes always consider the longest chain to be the correct one and will keep working on extending it. If two nodes broadcast different versions of the next block simultaneously, some nodes may receive one or the other first. In that case, they work on the first one they received, but save the other branch in case it becomes longer. The tie will be broken when the next proof-of-work is found and one branch becomes longer; the nodes that were working on the other branch will then switch to the longer one.\n",
      "New transaction broadcasts do not necessarily need to reach all nodes. As long as they reach many nodes, they will get into a block before long. Block broadcasts are also tolerant of dropped messages. If a node does not receive a block, it will request it when it receives the next block and realizes it missed one.\n",
      "6. Incentive\n",
      "By convention, the first transaction in a block is a special transaction that starts a new coin owned by the creator of the block. This adds an incentive for nodes to support the network, and provides a way to initially distribute coins into circulation, since there is no central authority to issue them. The steady addition of a constant of amount of new coins is analogous to gold miners expending resources to add gold to circulation. In our case, it is CPU time and electricity that is expended.\n",
      "The incentive can also be funded with transaction fees. If the output value of a transaction is less than its input value, the difference is a transaction fee that is added to the incentive value of the block containing the transaction. Once a predetermined number of coins have entered circulation, the incentive can transition entirely to transaction fees and be completely inflation free.\n",
      "The incentive may help encourage nodes to stay honest. If a greedy attacker is able to assemble more CPU power than all the honest nodes, he would have to choose between using it to defraud people by stealing back his payments, or using it to generate new coins. He ought to find it more profitable to play by the rules, such rules that favour him with more new coins than everyone else combined, than to undermine the system and the validity of his own wealth.\n",
      "7. Reclaiming Disk Space\n",
      "Once the latest transaction in a coin is buried under enough blocks, the spent transactions before it can be discarded to save disk space. To facilitate this without breaking the block’s hash, transactions are hashed in a Merkle Tree [7][2][5], with only the root included in the block’s hash. Old blocks can then be compacted by stubbing off branches of the tree. The interior hashes do not need to be stored.\n",
      "\n",
      "\n",
      "\n",
      "A block header with no transactions would be about 80 bytes. If we suppose blocks are generated every 10 minutes, 80 bytes * 6 * 24 * 365 = 4.2MB per year. With computer systems typically selling with 2GB of RAM as of 2008, and Moore’s Law predicting current growth of 1.2GB per year, storage should not be a problem even if the block headers must be kept in memory.\n",
      "8. Simplified Payment Verification\n",
      "It is possible to verify payments without running a full network node. A user only needs to keep a copy of the block headers of the longest proof-of-work chain, which he can get by querying network nodes until he’s convinced he has the longest chain, and obtain the Merkle branch linking the transaction to the block it’s timestamped in. He can’t check the transaction for himself, but by linking it to a place in the chain, he can see that a network node has accepted it, and blocks added after it further confirm the network has accepted it.\n",
      "\n",
      "\n",
      "\n",
      "As such, the verification is reliable as long as honest nodes control the network, but is more vulnerable if the network is overpowered by an attacker. While network nodes can verify transactions for themselves, the simplified method can be fooled by an attacker’s fabricated transactions for as long as the attacker can continue to overpower the network. One strategy to protect against this would be to accept alerts from network nodes when they detect an invalid block, prompting the user’s software to download the full block and alerted transactions to confirm the inconsistency. Businesses that receive frequent payments will probably still want to run their own nodes for more independent security and quicker verification.\n",
      "9. Combining and Splitting Value\n",
      "Although it would be possible to handle coins individually, it would be unwieldy to make a separate transaction for every cent in a transfer. To allow value to be split and combined, transactions contain multiple inputs and outputs. Normally there will be either a single input from a larger previous transaction or multiple inputs combining smaller amounts, and at most two outputs: one for the payment, and one returning the change, if any, back to the sender.\n",
      "\n",
      "\n",
      "\n",
      "It should be noted that fan-out, where a transaction depends on several transactions, and those transactions depend on many more, is not a problem here. There is never the need to extract a complete standalone copy of a transaction’s history.\n",
      "10. Privacy\n",
      "The traditional banking model achieves a level of privacy by limiting access to information to the parties involved and the trusted third party. The necessity to announce all transactions publicly precludes this method, but privacy can still be maintained by breaking the flow of information in another place: by keeping public keys anonymous. The public can see that someone is sending an amount to someone else, but without information linking the transaction to anyone. This is similar to the level of information released by stock exchanges, where the time and size of individual trades, the “tape”, is made public, but without telling who the parties were.\n",
      "\n",
      "\n",
      "\n",
      "As an additional firewall, a new key pair should be used for each transaction to keep them from being linked to a common owner. Some linking is still unavoidable with multi-input transactions, which necessarily reveal that their inputs were owned by the same owner. The risk is that if the owner of a key is revealed, linking could reveal other transactions that belonged to the same owner.\n",
      "11. Calculations\n",
      "We consider the scenario of an attacker trying to generate an alternate chain faster than the honest chain. Even if this is accomplished, it does not throw the system open to arbitrary changes, such as creating value out of thin air or taking money that never belonged to the attacker. Nodes are not going to accept an invalid transaction as payment, and honest nodes will never accept a block containing them. An attacker can only try to change one of his own transactions to take back money he recently spent.\n",
      "The race between the honest chain and an attacker chain can be characterized as a Binomial Random Walk. The success event is the honest chain being extended by one block, increasing its lead by +1, and the failure event is the attacker’s chain being extended by one block, reducing the gap by -1.\n",
      "The probability of an attacker catching up from a given deficit is analogous to a Gambler’s Ruin problem. Suppose a gambler with unlimited credit starts at a deficit and plays potentially an infinite number of trials to try to reach breakeven. We can calculate the probability he ever reaches breakeven, or that an attacker ever catches up with the honest chain, as follows:[8]\n",
      "\\[\n",
      "\n",
      "\\begin{aligned}\n",
      "p &= \\text{probability an honest node finds the next block} \\\\\n",
      "q &= \\text{probability the attacker finds the next block} \\\\\n",
      "q_z &= \\text{probability the attacker will ever catch up from $z$ blocks behind}\n",
      "\\end{aligned}\n",
      "\n",
      "\\]\n",
      "\\[\n",
      "\n",
      "\\large q_z = \\begin{Bmatrix}\n",
      "1 & \\text{if}\\; p \\leq q\\newline\n",
      "(q/p)^z & \\text{if}\\; p > q\n",
      "\\end{Bmatrix}\n",
      "\n",
      "\\]\n",
      "Given our assumption that \\(p \\gt q\\), the probability drops exponentially as the number of blocks the attacker has to catch up with increases. With the odds against him, if he doesn’t make a lucky lunge forward early on, his chances become vanishingly small as he falls further behind.\n",
      "We now consider how long the recipient of a new transaction needs to wait before being sufficiently certain the sender can’t change the transaction. We assume the sender is an attacker who wants to make the recipient believe he paid him for a while, then switch it to pay back to himself after some time has passed. The receiver will be alerted when that happens, but the sender hopes it will be too late.\n",
      "The receiver generates a new key pair and gives the public key to the sender shortly before signing. This prevents the sender from preparing a chain of blocks ahead of time by working on it continuously until he is lucky enough to get far enough ahead, then executing the transaction at that moment. Once the transaction is sent, the dishonest sender starts working in secret on a parallel chain containing an alternate version of his transaction.\n",
      "The recipient waits until the transaction has been added to a block and \\(z\\) blocks have been linked after it. He doesn’t know the exact amount of progress the attacker has made, but assuming the honest blocks took the average expected time per block, the attacker’s potential progress will be a Poisson distribution with expected value:\n",
      "\\[\n",
      "\n",
      "\\lambda = z \\frac{q}{p}\n",
      "\n",
      "\\]\n",
      "To get the probability the attacker could still catch up now, we multiply the Poisson density for each amount of progress he could have made by the probability he could catch up from that point:\n",
      "\\[\n",
      "\n",
      "\\sum_{k=0}^{\\infty} \\frac{\\lambda^k e^{-\\lambda}}{k!} \\cdot\n",
      "\\begin{Bmatrix}\n",
      "(q/p)^{(z-k)} & \\text{if}\\; k\\leq z\\newline\n",
      "1 & \\text{if}\\; k > z\n",
      "\\end{Bmatrix}\n",
      "\n",
      "\\]\n",
      "Rearranging to avoid summing the infinite tail of the distribution…\n",
      "\\[\n",
      "\n",
      "1 - \\sum_{k=0}^{z} \\frac{\\lambda^k e^{-\\lambda}}{k!}\n",
      "\\left( 1-(q/p)^{(z-k)} \\right)\n",
      "\n",
      "\\]\n",
      "Converting to C code…\n",
      "#include <math.h>\n",
      "double AttackerSuccessProbability(double q, int z)\n",
      "{\n",
      "\tdouble p = 1.0 - q;\n",
      "\tdouble lambda = z * (q / p);\n",
      "\tdouble sum = 1.0;\n",
      "\tint i, k;\n",
      "\tfor (k = 0; k <= z; k++)\n",
      "\t{\n",
      "\t\tdouble poisson = exp(-lambda);\n",
      "\t\tfor (i = 1; i <= k; i++)\n",
      "\t\t\tpoisson *= lambda / i;\n",
      "\t\tsum -= poisson * (1 - pow(q / p, z - k));\n",
      "\t}\n",
      "\treturn sum;\n",
      "}\n",
      "\n",
      "Running some results, we can see the probability drop off exponentially with \\(z\\).\n",
      "q=0.1\n",
      "z=0    P=1.0000000\n",
      "z=1    P=0.2045873\n",
      "z=2    P=0.0509779\n",
      "z=3    P=0.0131722\n",
      "z=4    P=0.0034552\n",
      "z=5    P=0.0009137\n",
      "z=6    P=0.0002428\n",
      "z=7    P=0.0000647\n",
      "z=8    P=0.0000173\n",
      "z=9    P=0.0000046\n",
      "z=10   P=0.0000012\n",
      "\n",
      "q=0.3\n",
      "z=0    P=1.0000000\n",
      "z=5    P=0.1773523\n",
      "z=10   P=0.0416605\n",
      "z=15   P=0.0101008\n",
      "z=20   P=0.0024804\n",
      "z=25   P=0.0006132\n",
      "z=30   P=0.0001522\n",
      "z=35   P=0.0000379\n",
      "z=40   P=0.0000095\n",
      "z=45   P=0.0000024\n",
      "z=50   P=0.0000006\n",
      "\n",
      "Solving for P less than 0.1%…\n",
      "P < 0.001\n",
      "q=0.10   z=5\n",
      "q=0.15   z=8\n",
      "q=0.20   z=11\n",
      "q=0.25   z=15\n",
      "q=0.30   z=24\n",
      "q=0.35   z=41\n",
      "q=0.40   z=89\n",
      "q=0.45   z=340\n",
      "\n",
      "12. Conclusion\n",
      "We have proposed a system for electronic transactions without relying on trust. We started with the usual framework of coins made from digital signatures, which provides strong control of ownership, but is incomplete without a way to prevent double-spending. To solve this, we proposed a peer-to-peer network using proof-of-work to record a public history of transactions that quickly becomes computationally impractical for an attacker to change if honest nodes control a majority of CPU power. The network is robust in its unstructured simplicity. Nodes work all at once with little coordination. They do not need to be identified, since messages are not routed to any particular place and only need to be delivered on a best effort basis. Nodes can leave and rejoin the network at will, accepting the proof-of-work chain as proof of what happened while they were gone. They vote with their CPU power, expressing their acceptance of valid blocks by working on extending them and rejecting invalid blocks by refusing to work on them. Any needed rules and incentives can be enforced with this consensus mechanism.\n",
      "References\n",
      "\n",
      "\n",
      "W. Dai, \"b-money,\" http://www.weidai.com/bmoney.txt, 1998. ↩\n",
      "\n",
      "\n",
      "H. Massias, X.S. Avila, and J.-J. Quisquater, \"Design of a secure timestamping service with minimal trust requirements,\" In 20th Symposium on Information Theory in the Benelux, May 1999. ↩ ↩\n",
      "\n",
      "\n",
      "S. Haber, W.S. Stornetta, \"How to time-stamp a digital document,\" In Journal of Cryptology, vol 3, no 2, pages 99-111, 1991. ↩\n",
      "\n",
      "\n",
      "D. Bayer, S. Haber, W.S. Stornetta, \"Improving the efficiency and reliability of digital time-stamping,\" In Sequences II: Methods in Communication, Security and Computer Science, pages 329-334, 1993. ↩\n",
      "\n",
      "\n",
      "S. Haber, W.S. Stornetta, \"Secure names for bit-strings,\" In Proceedings of the 4th ACM Conference on Computer and Communications Security, pages 28-35, April 1997. ↩ ↩\n",
      "\n",
      "\n",
      "A. Back, \"Hashcash - a denial of service counter-measure,\" http://www.hashcash.org/papers/hashcash.pdf, 2002. ↩\n",
      "\n",
      "\n",
      "R.C. Merkle, \"Protocols for public key cryptosystems,\" In Proc. 1980 Symposium on Security and Privacy, IEEE Computer Society, pages 122-133, April 1980. ↩\n",
      "\n",
      "\n",
      "W. Feller, \"An introduction to probability theory and its applications,\" 1957. ↩\n",
      "\n",
      "Read in العربية, Deutsch, Español, فارسی, Suomi, Français, עברית, Italiano, 한국어, Português Brasil, Русский, Türkçe, Tiếng Việt, and 简体中文Satoshi Nakamoto InstituteEstablished block#272,311Satoshi Nakamoto Institute is licensed under a Creative Commons Attribution-ShareAlike 4.0 International License. Some works may be subject to other licenses.\n"
     ]
    }
   ],
   "source": [
    "# 定义只保留标题、标题头和文章内容的过滤器\n",
    "bs4_strainer = bs4.SoupStrainer([\"h1\", \"h2\", \"h3\", \"h4\", \"h5\", \"h6\", \"p\", \"article\"])\n",
    "\n",
    "# 创建 WebBaseLoader 实例\n",
    "loader = WebBaseLoader(\n",
    "    web_paths=(\"https://nakamotoinstitute.org/library/bitcoin/\",),\n",
    "    bs_kwargs={\"parse_only\": bs4_strainer},\n",
    ")\n",
    "\n",
    "# 加载并获取文档内容\n",
    "docs = loader.load()\n",
    "\n",
    "# 打印获取的文档内容\n",
    "for doc in docs:\n",
    "    print(doc.page_content)\n"
   ]
  },
  {
   "cell_type": "code",
   "execution_count": 12,
   "id": "0e5c2d11-eff2-43d1-8800-9d9d3a301f39",
   "metadata": {},
   "outputs": [
    {
     "name": "stdout",
     "output_type": "stream",
     "text": [
      "20967\n"
     ]
    }
   ],
   "source": [
    "# 检查加载的文档内容长度\n",
    "print(len(docs[0].page_content))  # 打印第一个文档内容的长度"
   ]
  },
  {
   "cell_type": "code",
   "execution_count": 13,
   "id": "d94fd046-6a2a-4761-a83b-a9f82ed53b63",
   "metadata": {},
   "outputs": [
    {
     "name": "stdout",
     "output_type": "stream",
     "text": [
      "Bitcoin: A Peer-to-Peer Electronic Cash SystemSatoshi NakamotoOctober 31, 2008PDFExternal linkAbstra\n"
     ]
    }
   ],
   "source": [
    "# 查看第一个文档（前100字符）\n",
    "print(docs[0].page_content[:100])"
   ]
  },
  {
   "cell_type": "code",
   "execution_count": null,
   "id": "26600ceb-0de8-4820-b438-ed8ae561886f",
   "metadata": {},
   "outputs": [],
   "source": []
  },
  {
   "cell_type": "markdown",
   "id": "1b6705c5-54ab-4cbd-9718-01563257e54d",
   "metadata": {},
   "source": [
    "### Step 2: 文档分割\n",
    "\n",
    "- **描述**: 使用文本分割器将加载的长文档分割成较小的块，以便嵌入和检索。\n",
    "- **重要代码抽象**:\n",
    "  - 类: `RecursiveCharacterTextSplitter`\n",
    "  - 方法: `split_documents()`\n",
    "- **代码解释**:\n",
    "  - **文档分割**: 使用 `RecursiveCharacterTextSplitter` 按字符大小分割文档块，设置块大小和重叠字符数，确保文档块适合模型处理。\n",
    "  - **检查块数量**: 打印分割后的文档块数量，确保分割操作正确执行。\n",
    "  - **验证块大小**: 输出第一个块的字符数，确认分割块的大小是否符合预期。"
   ]
  },
  {
   "cell_type": "code",
   "execution_count": 16,
   "id": "0958c3b5-4110-44b2-9e27-4a82015c0a5e",
   "metadata": {},
   "outputs": [],
   "source": [
    "# 使用 RecursiveCharacterTextSplitter 将文档分割成块，每块1000字符，重叠200字符\n",
    "text_splitter = RecursiveCharacterTextSplitter(\n",
    "    chunk_size=1000, chunk_overlap=200, add_start_index=True\n",
    ")\n",
    "all_splits = text_splitter.split_documents(docs)"
   ]
  },
  {
   "cell_type": "code",
   "execution_count": 17,
   "id": "04d73830-8e73-4293-80b0-7e631f7344d1",
   "metadata": {},
   "outputs": [
    {
     "name": "stdout",
     "output_type": "stream",
     "text": [
      "35\n"
     ]
    }
   ],
   "source": [
    "# 检查分割后的块数量和内容\n",
    "print(len(all_splits))  # 打印分割后的文档块数量"
   ]
  },
  {
   "cell_type": "code",
   "execution_count": 18,
   "id": "5263f892-4a80-42b9-b79e-ac3e303a60ca",
   "metadata": {},
   "outputs": [
    {
     "name": "stdout",
     "output_type": "stream",
     "text": [
      "102\n"
     ]
    }
   ],
   "source": [
    "print(len(all_splits[0].page_content))  # 打印第一个块的字符数"
   ]
  },
  {
   "cell_type": "code",
   "execution_count": 25,
   "id": "46183c0c-91ec-4609-b7c3-e85c08d8d975",
   "metadata": {},
   "outputs": [
    {
     "name": "stdout",
     "output_type": "stream",
     "text": [
      "Bitcoin: A Peer-to-Peer Electronic Cash SystemSatoshi NakamotoOctober 31, 2008PDFExternal linkAbstract\n"
     ]
    }
   ],
   "source": [
    "print(all_splits[0].page_content)  # 打印第一个块的内容"
   ]
  },
  {
   "cell_type": "code",
   "execution_count": 26,
   "id": "034ce612-96d0-4b61-8d53-884b48a85a11",
   "metadata": {},
   "outputs": [
    {
     "name": "stdout",
     "output_type": "stream",
     "text": [
      "{'source': 'https://nakamotoinstitute.org/library/bitcoin/', 'start_index': 0}\n"
     ]
    }
   ],
   "source": [
    "print(all_splits[0].metadata)  # 打印第一个块的元数据"
   ]
  },
  {
   "cell_type": "code",
   "execution_count": null,
   "id": "7b96fb11-41cb-4d79-b7ec-cc294187baf8",
   "metadata": {},
   "outputs": [],
   "source": []
  },
  {
   "cell_type": "markdown",
   "id": "4d04622f-7e3c-413c-89cd-5eef87949966",
   "metadata": {},
   "source": [
    "### Step 3: 存储嵌入\n",
    "\n",
    "- **描述**: 将分割后的文档内容嵌入到向量空间中，并存储到向量数据库，以便后续检索。\n",
    "- **重要代码抽象**:\n",
    "  - 类: `Chroma`\n",
    "  - 方法: `from_documents()`\n",
    "  - 类: `OpenAIEmbeddings`\n",
    "- **代码解释**:\n",
    "  - **存储嵌入**: 使用 `Chroma.from_documents()` 方法将所有分割的文档片段进行嵌入(`OpenAIEmbeddings`嵌入模型)，将文档片段嵌入向量空间，并存储在向量数据库中。"
   ]
  },
  {
   "cell_type": "markdown",
   "id": "f39f1eca-7d0c-4bcc-b255-054cc002d7f4",
   "metadata": {},
   "source": [
    "#### Chroma 基础使用\n",
    "\n",
    "**下面是初始化 Chroma 数据库（仅实例化，未存储向量数据）的常见做法：**\n",
    "\n",
    "**使用构造函数初始化**: 在本地持久化存储 Chroma 数据库.\n",
    "\n",
    "```python\n",
    "from langchain_chroma import Chroma\n",
    "\n",
    "vector_store = Chroma(\n",
    "    collection_name=\"example_collection\",\n",
    "    embedding_function=embeddings,\n",
    "    persist_directory=\"./chroma_langchain_db\",  # Where to save data locally, remove if not neccesary\n",
    ")\n",
    "```\n",
    "\n",
    "**使用 Cleint 初始化**: 更方便地访问底层数据库/集合。\n",
    "\n",
    "```python\n",
    "import chromadb\n",
    "\n",
    "persistent_client = chromadb.PersistentClient()\n",
    "collection = persistent_client.get_or_create_collection(\"collection_name\")\n",
    "collection.add(ids=[\"1\", \"2\", \"3\"], documents=[\"a\", \"b\", \"c\"])\n",
    "\n",
    "vector_store_from_client = Chroma(\n",
    "    client=persistent_client,\n",
    "    collection_name=\"collection_name\",\n",
    "    embedding_function=embeddings,\n",
    ")\n",
    "```\n",
    "\n",
    "\n",
    "**我们直接使用 `Chroma.from_documents()` 方法 实例化+数据存储**:\n",
    "\n",
    "该方法返回 Chroma 实例，数据类型为`langchain_chroma.vectorstores.Chroma`，详细 API 文档： https://python.langchain.com/v0.2/api_reference/core/vectorstores/langchain_core.vectorstores.base.VectorStore.html"
   ]
  },
  {
   "cell_type": "code",
   "execution_count": 27,
   "id": "ef288a05-25a4-4f2f-827a-a5f318ff0d7f",
   "metadata": {},
   "outputs": [],
   "source": [
    "# 使用 Chroma 向量存储和 OpenAIEmbeddings 模型，将分割的文档块嵌入并存储\n",
    "vectorstore = Chroma.from_documents(\n",
    "    documents=all_splits,\n",
    "    embedding=OpenAIEmbeddings()\n",
    ")"
   ]
  },
  {
   "cell_type": "code",
   "execution_count": 28,
   "id": "39aa3545-b456-473a-b620-5fb0eab15dc2",
   "metadata": {},
   "outputs": [
    {
     "data": {
      "text/plain": [
       "langchain_chroma.vectorstores.Chroma"
      ]
     },
     "execution_count": 28,
     "metadata": {},
     "output_type": "execute_result"
    }
   ],
   "source": [
    "# 查看 vectorstore 数据类型\n",
    "type(vectorstore) "
   ]
  },
  {
   "cell_type": "code",
   "execution_count": null,
   "id": "47b52313-646a-4512-8125-68054c1c7e46",
   "metadata": {},
   "outputs": [],
   "source": []
  },
  {
   "cell_type": "markdown",
   "id": "a6c587ce-b40f-47ad-bd14-480c49a073e7",
   "metadata": {},
   "source": [
    "### Step 4: 检索文档\n",
    "\n",
    "- **描述**: 使用 `VectorStoreRetriever` 类的 `as_retriever()` 和 `invoke()` 方法，从向量数据库中检索与查询最相关的文档片段。\n",
    "- **重要代码抽象**:\n",
    "  - 类: `VectorStoreRetriever`\n",
    "  - 方法: `as_retriever()`, `invoke()`\n",
    "- **代码解释**:\n",
    "  - **文档检索**: 将向量存储转换为检索器，并基于查询执行相似性搜索，获取相关文档片段。\n",
    "  - **检查检索数量**: 打印检索到的文档片段数量，确保检索操作成功。\n",
    "  - **验证检索内容**: 输出第一个检索到的文档内容，确认检索结果与预期相符。\n",
    "\n",
    "在 LangChain 中，所有向量数据库都支持**vectorstore.as_retriever** 方法，实例化该数据库对应的检索器（Retriever），数据类型为`VectorStoreRetriever`，详细 API 文档：https://python.langchain.com/v0.2/api_reference/core/vectorstores/langchain_core.vectorstores.base.VectorStoreRetriever.html"
   ]
  },
  {
   "cell_type": "code",
   "execution_count": 29,
   "id": "0cdab30e-b07d-4273-b734-3aabff356bb5",
   "metadata": {},
   "outputs": [],
   "source": [
    "# 使用 VectorStoreRetriever 从向量存储中检索与查询最相关的文档\n",
    "retriever = vectorstore.as_retriever(search_type=\"similarity\", search_kwargs={\"k\": 6})"
   ]
  },
  {
   "cell_type": "code",
   "execution_count": 30,
   "id": "6feddb48-d07e-40be-a9fe-790c3bb75d79",
   "metadata": {},
   "outputs": [
    {
     "data": {
      "text/plain": [
       "langchain_core.vectorstores.VectorStoreRetriever"
      ]
     },
     "execution_count": 30,
     "metadata": {},
     "output_type": "execute_result"
    }
   ],
   "source": [
    "type(retriever)"
   ]
  },
  {
   "cell_type": "code",
   "execution_count": 31,
   "id": "9283b2e6-874f-4815-915b-e87da0429a5c",
   "metadata": {},
   "outputs": [],
   "source": [
    "retrieved_docs = retriever.invoke(\"What is bitcoin?\")"
   ]
  },
  {
   "cell_type": "code",
   "execution_count": 32,
   "id": "0d292f13-9581-4f28-b54d-ba0fe9fa0040",
   "metadata": {},
   "outputs": [
    {
     "name": "stdout",
     "output_type": "stream",
     "text": [
      "6\n"
     ]
    }
   ],
   "source": [
    "# 检查检索到的文档内容\n",
    "print(len(retrieved_docs))  # 打印检索到的文档数量"
   ]
  },
  {
   "cell_type": "code",
   "execution_count": 35,
   "id": "458d6a7d-21a9-49a4-b523-651e3bab51e4",
   "metadata": {},
   "outputs": [
    {
     "name": "stdout",
     "output_type": "stream",
     "text": [
      "Bitcoin: A Peer-to-Peer Electronic Cash SystemSatoshi NakamotoOctober 31, 2008PDFExternal linkAbstract\n"
     ]
    }
   ],
   "source": [
    "print(retrieved_docs[0].page_content)  # 打印第一个检索到的文档内容"
   ]
  },
  {
   "cell_type": "code",
   "execution_count": null,
   "id": "6cdc6302-1b59-4abc-813a-6b0d44cc7cf2",
   "metadata": {},
   "outputs": [],
   "source": []
  },
  {
   "cell_type": "markdown",
   "id": "a3309c1e-c650-44ae-baba-6f7528372931",
   "metadata": {},
   "source": [
    "### Step 5: 生成回答\n",
    "\n",
    "- **描述**: 将之前构建的组件（检索器、提示、LLM等）组合成一个完整的链条，实现用户问题的检索与生成回答。完整链条：输入用户问题，检索相关文档，构建提示，将其传递给模型（使用`ChatOpenAI` 类的 `invoke()` 方法），并解析输出生成最终回答。\n",
    "- **重要代码抽象**:\n",
    "  - 类: `ChatOpenAI`\n",
    "  - 方法: `invoke()`\n",
    "  - 类: `RunnablePassthrough`\n",
    "  - 类: `StrOutputParser`\n",
    "  - 模块：`hub`\n",
    "- **代码解释**:\n",
    "  - **模型初始化**: 使用 `ChatOpenAI` 类初始化一个 `GPT-4o-mini` 模型，准备处理生成任务。\n",
    "  - **文档格式化**: 定义 `format_docs` 函数，用于将检索到的文档内容格式化为字符串。\n",
    "  - **构建 RAG 链**: 使用 LCEL (LangChain Execution Layer) 的 `|` 操作符将各个组件连接成一个链条，包括文档检索、提示构建、模型调用以及输出解析。\n",
    "  - **生成回答**: 使用 `stream()` 方法逐步输出生成的回答，并实时展示，确保生成的结果符合预期。\n",
    "\n",
    "![retrieval](../images/retrieval.png)\n",
    "\n",
    "#### LangChain Hub\n",
    "\n",
    "`LangChain Hub` (https://smith.langchain.com/hub) 是一个提示词模板开源社区，为开发者提供了大量开箱即用的提示词模板。属于 `LangSmith` 产品的一部分。\n",
    "\n",
    "下面我们尝试使用 RAG 应用的提示词模板：https://smith.langchain.com/hub/rlm/rag-prompt\n",
    "\n",
    "\n",
    "```\n",
    "You are an assistant for question-answering tasks. Use the following pieces of retrieved context to answer the question. If you don't know the answer, just say that you don't know. Use three sentences maximum and keep the answer concise.\n",
    "Question: {question} \n",
    "Context: {context} \n",
    "Answer:\n",
    "```"
   ]
  },
  {
   "cell_type": "code",
   "execution_count": 36,
   "id": "b3dbe88b-7a8f-4607-8426-698a3adf3ef2",
   "metadata": {},
   "outputs": [],
   "source": [
    "# 定义 RAG 链，将用户问题与检索到的文档结合并生成答案\n",
    "llm = ChatOpenAI(model=\"gpt-4o-mini\")"
   ]
  },
  {
   "cell_type": "code",
   "execution_count": 56,
   "id": "488e8c40-a304-4538-a84e-cc8e4e7e101a",
   "metadata": {},
   "outputs": [
    {
     "name": "stderr",
     "output_type": "stream",
     "text": [
      "/Users/bytedance/miniconda3/envs/langchain/lib/python3.10/site-packages/langchain/hub.py:86: DeprecationWarning: The `langchainhub sdk` is deprecated.\n",
      "Please use the `langsmith sdk` instead:\n",
      "  pip install langsmith\n",
      "Use the `pull_prompt` method.\n",
      "  res_dict = client.pull_repo(owner_repo_commit)\n"
     ]
    }
   ],
   "source": [
    "# 使用 hub 模块拉取 rag 提示词模板\n",
    "prompt = hub.pull(\"rlm/rag-prompt\")"
   ]
  },
  {
   "cell_type": "code",
   "execution_count": 57,
   "id": "cf0de4c1-e389-430b-a472-521960e12b0b",
   "metadata": {},
   "outputs": [
    {
     "name": "stdout",
     "output_type": "stream",
     "text": [
      "[HumanMessagePromptTemplate(prompt=PromptTemplate(input_variables=['context', 'question'], template=\"You are an assistant for question-answering tasks. Use the following pieces of retrieved context to answer the question. If you don't know the answer, just say that you don't know. Use three sentences maximum and keep the answer concise.\\nQuestion: {question} \\nContext: {context} \\nAnswer:\"))]\n"
     ]
    }
   ],
   "source": [
    "# 打印模板\n",
    "print(prompt.messages)"
   ]
  },
  {
   "cell_type": "code",
   "execution_count": 58,
   "id": "281d2ea1-0a61-45aa-810d-6b80a7d102a2",
   "metadata": {},
   "outputs": [],
   "source": [
    "# 为 context 和 question 填充样例数据，并生成 ChatModel 可用的 Messages\n",
    "example_messages = prompt.invoke(\n",
    "    {\"context\": \"filler context\", \"question\": \"filler question\"}\n",
    ").to_messages()"
   ]
  },
  {
   "cell_type": "code",
   "execution_count": 59,
   "id": "0e55e098-5f2d-4ef6-98e2-b1a4f27fa853",
   "metadata": {},
   "outputs": [
    {
     "name": "stdout",
     "output_type": "stream",
     "text": [
      "You are an assistant for question-answering tasks. Use the following pieces of retrieved context to answer the question. If you don't know the answer, just say that you don't know. Use three sentences maximum and keep the answer concise.\n",
      "Question: filler question \n",
      "Context: filler context \n",
      "Answer:\n"
     ]
    }
   ],
   "source": [
    "# 查看提示词\n",
    "print(example_messages[0].content)"
   ]
  },
  {
   "cell_type": "code",
   "execution_count": 63,
   "id": "96a4e657-ab00-4142-ab25-4d97b7d6f182",
   "metadata": {},
   "outputs": [
    {
     "data": {
      "text/plain": [
       "langchain_core.prompt_values.ChatPromptValue"
      ]
     },
     "execution_count": 63,
     "metadata": {},
     "output_type": "execute_result"
    }
   ],
   "source": [
    "type(prompt.invoke(\n",
    "    {\"context\": \"filler context\", \"question\": \"filler question\"}\n",
    "))"
   ]
  },
  {
   "cell_type": "markdown",
   "id": "300cbbc6-aaaa-4f8c-8382-1cbda08d2fe9",
   "metadata": {},
   "source": [
    "#### ⭐️**LCEL 在 RAG 中的应用**⭐️\n",
    "\n",
    "##### **LCEL 概述**\n",
    "\n",
    "LCEL 是 LangChain 中的一个重要概念，它提供了一种统一的接口，允许不同的组件（如 `retriever`, `prompt`, `llm` 等）可以通过统一的 `Runnable` 接口连接起来。每个 `Runnable` 组件都实现了相同的方法，如 `.invoke()`、`.stream()` 或 `.batch()`，这使得它们可以通过 `|` 操作符轻松连接。\n",
    "\n",
    "##### **LCEL 中处理的组件**\n",
    "\n",
    "- **Retriever**: 负责根据用户问题检索相关文档。\n",
    "- **Prompt**: 根据检索到的文档构建提示，供模型生成回答。\n",
    "- **LLM**: 接收提示并生成最终的回答。\n",
    "- **StrOutputParser**: 解析 LLM 的输出，只提取字符串内容，供最终显示。\n",
    "\n",
    "##### **LCEL 运作机制**\n",
    "\n",
    "- **构建链条**: 通过 `|` 操作符，我们可以将多个 `Runnable` 组件连接成一个 `RunnableSequence`。LangChain 会自动将一些对象转换为 `Runnable`，如将 `format_docs` 转换为 `RunnableLambda`，将包含 `\"context\"` 和 `\"question\"` 键的字典转换为 `RunnableParallel`。\n",
    "\n",
    "- **数据流动**: 用户输入的问题会在 `RunnableSequence` 中依次经过各个 `Runnable` 组件。首先，问题会通过 `retriever` 检索相关文档，然后通过 `format_docs` 将这些文档转换为字符串。`RunnablePassthrough` 则直接传递原始问题。最后，这些数据被传递给 `prompt` 来生成完整的提示，供 LLM 使用。\n",
    "\n",
    "##### **LCEL 中的关键操作**\n",
    "\n",
    "- **格式化文档**: `retriever | format_docs` 将问题传递给 `retriever` 生成文档对象，然后通过 `format_docs` 将这些文档格式化为字符串。\n",
    "- **传递问题**: `RunnablePassthrough()` 直接传递原始问题，保持原样。\n",
    "- **构建提示**: `{\"context\": retriever | format_docs, \"question\": RunnablePassthrough()} | prompt` 构建完整的提示。\n",
    "- **运行模型**: `prompt | llm | StrOutputParser()` 运行 LLM 生成回答，并解析输出。\n",
    "\n",
    "#### 使用 LCEL 构建 RAG Chain\n",
    "\n",
    "下面我们将 LCEL 的概念与代码实现结合起来，展示了如何通过一系列 `Runnable` 组件来实现完整的 RAG 流程。通过 LCEL，LangChain 提供了高度模块化和可扩展的开发方式，使复杂任务的实现变得更加简单和高效。\n"
   ]
  },
  {
   "cell_type": "code",
   "execution_count": 42,
   "id": "0fe460ec-547e-4714-a7dd-bf9dc319b258",
   "metadata": {},
   "outputs": [],
   "source": [
    "# 定义格式化文档的函数\n",
    "def format_docs(docs):\n",
    "    return \"\\n\\n\".join(doc.page_content for doc in docs)"
   ]
  },
  {
   "cell_type": "code",
   "execution_count": 43,
   "id": "66e6049b-af4d-435d-aded-68d9c80803bf",
   "metadata": {},
   "outputs": [],
   "source": [
    "# 使用 LCEL 构建 RAG Chain\n",
    "rag_chain = (\n",
    "    {\"context\": retriever | format_docs, \"question\": RunnablePassthrough()}\n",
    "    | prompt\n",
    "    | llm\n",
    "    | StrOutputParser()\n",
    ")"
   ]
  },
  {
   "cell_type": "code",
   "execution_count": 44,
   "id": "e2880d17-79ac-4e5c-966b-144d9ee0dc68",
   "metadata": {},
   "outputs": [
    {
     "name": "stdout",
     "output_type": "stream",
     "text": [
      "Bitcoin is a decentralized digital currency that allows peer-to-peer transactions without the need for a trusted third party, like a financial institution. It operates on a system of digital signatures and a proof-of-work mechanism to prevent double-spending and maintain a secure transaction history. The network's integrity relies on the majority control of honest nodes to validate transactions and create new coins."
     ]
    }
   ],
   "source": [
    "# 流式生成回答1\n",
    "for chunk in rag_chain.stream(\"What is bitcoin?\"):\n",
    "    print(chunk, end=\"\", flush=True)"
   ]
  },
  {
   "cell_type": "code",
   "execution_count": 45,
   "id": "bb6b9b0e-9883-4375-8bc1-ea31f3659172",
   "metadata": {},
   "outputs": [
    {
     "name": "stdout",
     "output_type": "stream",
     "text": [
      "Proof of work is a consensus mechanism used in blockchain networks where participants, or nodes, must perform computational work to validate transactions and create new blocks. This process involves finding a hash that meets specific criteria, which requires significant CPU effort, thereby making it impractical for an attacker to alter past transactions. The longest chain, representing the most proof of work, is considered the valid one, ensuring security and integrity in the network."
     ]
    }
   ],
   "source": [
    "# 流式生成回答2\n",
    "for chunk in rag_chain.stream(\"What is proof of work?\"):\n",
    "    print(chunk, end=\"\", flush=True)"
   ]
  },
  {
   "cell_type": "code",
   "execution_count": 46,
   "id": "5a072d01-60b2-46c7-a104-c8a4a3eda0e0",
   "metadata": {},
   "outputs": [
    {
     "name": "stdout",
     "output_type": "stream",
     "text": [
      "A block is a collection of transactions that are grouped together and validated by nodes in a blockchain network. It contains a special transaction that creates new coins for the block's creator, serving as an incentive for nodes to support the network. Blocks are linked in a chain, with each block containing a hash of the previous one, ensuring the integrity and order of the transactions."
     ]
    }
   ],
   "source": [
    "# 流式生成回答3\n",
    "for chunk in rag_chain.stream(\"What is a block?\"):\n",
    "    print(chunk, end=\"\", flush=True)"
   ]
  },
  {
   "cell_type": "code",
   "execution_count": 87,
   "id": "e92f3c17-332e-4da0-a111-940c5f46b673",
   "metadata": {},
   "outputs": [
    {
     "name": "stdout",
     "output_type": "stream",
     "text": [
      "Peer-to-peer transactions allow direct electronic payments between parties without the need for a trusted third party, eliminating reliance on financial institutions. The system uses a peer-to-peer network to timestamp transactions, preventing double-spending through a proof-of-work mechanism that requires computational effort to alter transaction history. As long as honest nodes control a majority of computational power, the network remains secure and robust."
     ]
    }
   ],
   "source": [
    " #流式生成回答4\n",
    "for chunk in rag_chain.stream(\"tell me something about peer-to-peer transaction\"):\n",
    "    print(chunk, end=\"\", flush=True)"
   ]
  },
  {
   "cell_type": "code",
   "execution_count": 107,
   "id": "6849f55e-05a2-4f70-b1f1-8c56a0690cf2",
   "metadata": {},
   "outputs": [
    {
     "name": "stdout",
     "output_type": "stream",
     "text": [
      "The retrieved context does not specify how many times \"bitcoin\" occurs in the article. Therefore, I don't know the answer."
     ]
    }
   ],
   "source": [
    "for chunk in rag_chain.stream(\"how many times bitcoin occur in the article?\"):\n",
    "    print(chunk, end=\"\", flush=True)"
   ]
  },
  {
   "cell_type": "code",
   "execution_count": 109,
   "id": "bbc7bac5-c35a-4823-b0f0-275c05e257f7",
   "metadata": {},
   "outputs": [
    {
     "name": "stdout",
     "output_type": "stream",
     "text": [
      "To get an incentive, a node must participate in the network by validating transactions and creating new blocks. The first transaction in each block generates new coins for the block creator, and transaction fees from transactions with input values greater than their output values contribute to the incentive as well. Over time, as more coins enter circulation, the incentive can shift entirely to transaction fees."
     ]
    }
   ],
   "source": [
    "for chunk in rag_chain.stream(\"Tell me the steps to get incentive\"):\n",
    "    print(chunk, end=\"\", flush=True)"
   ]
  },
  {
   "cell_type": "markdown",
   "id": "19c3d53d-6ae2-4e05-878b-6702c10995bd",
   "metadata": {},
   "source": [
    "# Homework\n",
    "1. 使用其他的线上文档或离线文件，重新构建向量数据库，尝试提出3个相关问题，测试 LCEL 构建的 RAG Chain 是否能成功召回。\n",
    "2. 重新设计或在 LangChain Hub 上找一个可用的 RAG 提示词模板，测试对比两者的召回率和生成质量。"
   ]
  },
  {
   "cell_type": "markdown",
   "id": "14d91a2d-56e0-4f52-b6a3-dc893583b51f",
   "metadata": {},
   "source": [
    "### 自定义 Prompt 的示例"
   ]
  },
  {
   "cell_type": "code",
   "execution_count": 89,
   "id": "82abefe5-c467-4477-9f43-7a6096ae9726",
   "metadata": {},
   "outputs": [
    {
     "name": "stderr",
     "output_type": "stream",
     "text": [
      "/Users/bytedance/miniconda3/envs/langchain/lib/python3.10/site-packages/langchain/hub.py:86: DeprecationWarning: The `langchainhub sdk` is deprecated.\n",
      "Please use the `langsmith sdk` instead:\n",
      "  pip install langsmith\n",
      "Use the `pull_prompt` method.\n",
      "  res_dict = client.pull_repo(owner_repo_commit)\n"
     ]
    }
   ],
   "source": [
    "# set the LANGCHAIN_API_KEY environment variable (create key in settings)\n",
    "prompt_base = hub.pull(\"ohkgi/superb_system_instruction_prompt\")"
   ]
  },
  {
   "cell_type": "code",
   "execution_count": 90,
   "id": "10f9bd9f-5f32-40b6-bc6c-073d45f5fa3d",
   "metadata": {},
   "outputs": [
    {
     "name": "stdout",
     "output_type": "stream",
     "text": [
      "[SystemMessagePromptTemplate(prompt=PromptTemplate(input_variables=[], template=\"# You are a text generating AI's instructive prompt creator, and you: Generate Clever and Effective Instructions for a Generative AI Model, where any and all instructions  you write will be carried out by a single prompt response from the ai text generator. Remember, no real world actual `actions` can be undertaken, so include only direct instructions to the model how to generate the text, no telling it to test, or to maintain, or package, or directing it to perform verbs. no verbs..\\n\\n1. Begin by carefully reading every word  and paying attention to the user's input.  \\n What are they needing a set of instructions to be written for. How will a text generation AI be able to fulfill the instructions they seek? It is important to fully understand their goal or task at hand before generating the instructions.\\n\\n2. Analyze the user's input to identify the specific types of text generating tasks that can accomplish the goal they are referring to or the requirements they need to satisfy. Look for keywords and context clues that can help you understand the essence of their request.\\n\\n3. Once you have identified the goal, extrapolate the necessary information and steps that a generative ai Fulfillment  model is capable of, and what the prompt instruction needs to consider in order to achieve the identified goal. Think critically about what is required to accomplish the task.\\n\\n4. Organize the steps in a logical and coherent manner. Ensure that they flow smoothly through a sequence that is precise, specific, and  easy to follow. Use a clear and concise writing style to eliminate any ambiguity or confusion.\\n\\n5. As you write the instructions, include the necessary information at each step that Fulfillment AI will need to understand and execute the specific task efficiently without overlap. Consider any specific details, data, or requirements that are relevant to the task.\\n\\n6. Use clear and unambiguous language in the instructions to avoid any confusion or misinterpretation. Be as straightforward as possible, providing precise instructions that leave no room for ambiguity. Ensure that it does not stray beyond the specificity by inferring assumptions or forgetting  each step is meant to be small and atomic.\\n\\n7. Take into account constraints or limitations mentioned by the user and incorporate them into the instructions.  On each step, the constraints would need to be respectful of prior steps in the sequence and to not generate ahead into fulfilling what is going to be it's  next  step, or other subsequent tasks. Ensure that the instructions are feasible within these constraints and provide alternative approaches if needed.\\n\\n8. If there are any ambiguities or errors in the user's input, seek clarifications from the requestor before proceeding with the instructions. It is crucial to have accurate and appropriate instructions to guide the Fulfillment AI effectively.\\n\\n9. Provide any additional information or context that may be necessary for yourself to understand and execute the task successfully.  Be Very specific, and precise.\\n\\n10. Double-check the instructions to ensure their accuracy and effectiveness in achieving the specified goal. Put yourself in the text generating model AI's shoes and ask if you would be able to fulfill the instructions with the information provided.\\n\\nRemember, the key to generating clever and effective instructions is to think critically, communicate clearly, and ensure that all necessary information is provided. \\n\\nFollow these guidelines to create instructions that will empower The text generative Fulfillment AI to think beyond expectations  for quality,  without branching off into not creating the content required for it's next steps. and successfully accomplish the tasks at hand.\\n\")), HumanMessagePromptTemplate(prompt=PromptTemplate(input_variables=['goal'], template='I need  instructions  for this goal: \\n\\n{goal}\\n\\nThey should be in a similar format as your own instructions.'))]\n"
     ]
    }
   ],
   "source": [
    "print(prompt_base.messages)"
   ]
  },
  {
   "cell_type": "code",
   "execution_count": 91,
   "id": "4616bdc2-9b30-46d6-882c-55c95d4db747",
   "metadata": {},
   "outputs": [
    {
     "data": {
      "text/plain": [
       "list"
      ]
     },
     "execution_count": 91,
     "metadata": {},
     "output_type": "execute_result"
    }
   ],
   "source": [
    "#为 context 和 question 填充样例数据，并生成 ChatModel 可用的 Messages\n",
    "example_messages = prompt_base.invoke(\n",
    "{\"goal\":\"how to have a good dream .\"}\n",
    ").to_messages()\n",
    "# check the prompt content\n",
    "type(example_messages)"
   ]
  },
  {
   "cell_type": "code",
   "execution_count": 92,
   "id": "eea66f18-2d7c-493d-b54e-8f6eff23b06a",
   "metadata": {},
   "outputs": [
    {
     "data": {
      "text/plain": [
       "\"# You are a text generating AI's instructive prompt creator, and you: Generate Clever and Effective Instructions for a Generative AI Model, where any and all instructions  you write will be carried out by a single prompt response from the ai text generator. Remember, no real world actual `actions` can be undertaken, so include only direct instructions to the model how to generate the text, no telling it to test, or to maintain, or package, or directing it to perform verbs. no verbs..\\n\\n1. Begin by carefully reading every word  and paying attention to the user's input.  \\n What are they needing a set of instructions to be written for. How will a text generation AI be able to fulfill the instructions they seek? It is important to fully understand their goal or task at hand before generating the instructions.\\n\\n2. Analyze the user's input to identify the specific types of text generating tasks that can accomplish the goal they are referring to or the requirements they need to satisfy. Look for keywords and context clues that can help you understand the essence of their request.\\n\\n3. Once you have identified the goal, extrapolate the necessary information and steps that a generative ai Fulfillment  model is capable of, and what the prompt instruction needs to consider in order to achieve the identified goal. Think critically about what is required to accomplish the task.\\n\\n4. Organize the steps in a logical and coherent manner. Ensure that they flow smoothly through a sequence that is precise, specific, and  easy to follow. Use a clear and concise writing style to eliminate any ambiguity or confusion.\\n\\n5. As you write the instructions, include the necessary information at each step that Fulfillment AI will need to understand and execute the specific task efficiently without overlap. Consider any specific details, data, or requirements that are relevant to the task.\\n\\n6. Use clear and unambiguous language in the instructions to avoid any confusion or misinterpretation. Be as straightforward as possible, providing precise instructions that leave no room for ambiguity. Ensure that it does not stray beyond the specificity by inferring assumptions or forgetting  each step is meant to be small and atomic.\\n\\n7. Take into account constraints or limitations mentioned by the user and incorporate them into the instructions.  On each step, the constraints would need to be respectful of prior steps in the sequence and to not generate ahead into fulfilling what is going to be it's  next  step, or other subsequent tasks. Ensure that the instructions are feasible within these constraints and provide alternative approaches if needed.\\n\\n8. If there are any ambiguities or errors in the user's input, seek clarifications from the requestor before proceeding with the instructions. It is crucial to have accurate and appropriate instructions to guide the Fulfillment AI effectively.\\n\\n9. Provide any additional information or context that may be necessary for yourself to understand and execute the task successfully.  Be Very specific, and precise.\\n\\n10. Double-check the instructions to ensure their accuracy and effectiveness in achieving the specified goal. Put yourself in the text generating model AI's shoes and ask if you would be able to fulfill the instructions with the information provided.\\n\\nRemember, the key to generating clever and effective instructions is to think critically, communicate clearly, and ensure that all necessary information is provided. \\n\\nFollow these guidelines to create instructions that will empower The text generative Fulfillment AI to think beyond expectations  for quality,  without branching off into not creating the content required for it's next steps. and successfully accomplish the tasks at hand.\\n\""
      ]
     },
     "execution_count": 92,
     "metadata": {},
     "output_type": "execute_result"
    }
   ],
   "source": [
    "example_messages[0].content"
   ]
  },
  {
   "cell_type": "code",
   "execution_count": 93,
   "id": "190df375-8c47-49df-b2b0-e0ff46cecc42",
   "metadata": {},
   "outputs": [],
   "source": [
    "# 自定义 prompt opt Chain\n",
    "prompt_opt_chain = (\n",
    "    { \"goal\": RunnablePassthrough()}\n",
    "    | prompt_base\n",
    "    | llm\n",
    "    | StrOutputParser()\n",
    ")"
   ]
  },
  {
   "cell_type": "code",
   "execution_count": 96,
   "id": "bed79adc-ecac-41da-bd56-2c2eb32bf944",
   "metadata": {},
   "outputs": [],
   "source": [
    "prompt_new = prompt_opt_chain.invoke(\"Implementing a RAG service, use the following pieces of context to answer the question at the end.\")"
   ]
  },
  {
   "cell_type": "code",
   "execution_count": 97,
   "id": "27e0b020-602d-4766-bff1-d90c762b043d",
   "metadata": {},
   "outputs": [
    {
     "data": {
      "text/plain": [
       "str"
      ]
     },
     "execution_count": 97,
     "metadata": {},
     "output_type": "execute_result"
    }
   ],
   "source": [
    "type(prompt_new)"
   ]
  },
  {
   "cell_type": "code",
   "execution_count": 98,
   "id": "daf15695-ffb0-44cd-9b17-0d3d278ecda7",
   "metadata": {},
   "outputs": [
    {
     "data": {
      "text/plain": [
       "'1. Begin by thoroughly reviewing the provided context related to implementing a RAG (Red, Amber, Green) service. Ensure complete understanding of the specific requirements and objectives outlined in the context.\\n\\n2. Identify the key components and tasks necessary for the implementation of a RAG service. Look for terms and concepts that indicate the framework for categorizing items, data, or statuses using the RAG color coding system.\\n\\n3. Extrapolate the essential steps required for the implementation process. Consider best practices for integrating a RAG system, including how to define criteria for each of the color categories and how to evaluate items against those criteria.\\n\\n4. Organize the steps systematically, ensuring a logical progression that accurately reflects the implementation process. Each step should build on the previous one, creating a coherent framework for execution.\\n\\n5. Clearly detail the actions needed for each step in the implementation of the RAG service. Include specific measures for defining thresholds or conditions for each color category and how to communicate these effectively within the system.\\n\\n6. Use precise and clear language throughout the instructions to prevent any potential misunderstanding or misinterpretation of the tasks involved. Focus on straightforward descriptions that leave no room for ambiguity.\\n\\n7. Pay attention to any constraints or limitations stated in the provided context. Ensure that each step of the implementation respects these constraints and does not anticipate or overlap with subsequent tasks.\\n\\n8. If there are any unclear aspects or vague points in the context, consider requesting additional clarification to ensure that the subsequent instructions will be accurate and relevant.\\n\\n9. Include any necessary additional information or context that would aid in the understanding of the RAG service implementation. Be specific about each component and its role in the overall service.\\n\\n10. Review the instructions to validate their accuracy and effectiveness in achieving the goal of implementing a RAG service. Consider whether the provided steps enable the successful realization of the service as intended. \\n\\nThese instructions will guide the implementation of a RAG service effectively, ensuring clarity, coherence, and respect for any specified constraints.'"
      ]
     },
     "execution_count": 98,
     "metadata": {},
     "output_type": "execute_result"
    }
   ],
   "source": [
    "prompt_new"
   ]
  },
  {
   "cell_type": "code",
   "execution_count": 99,
   "id": "94c5d89d-d642-41cb-ab6f-6ead404b6cb9",
   "metadata": {},
   "outputs": [],
   "source": [
    "from langchain_core.prompts import PromptTemplate\n",
    "\n",
    "# 自定义提示词模板\n",
    "template = prompt_new +  \"\"\" \\n\\n Use the following pieces of context to answer the question at the end.\n",
    "If you don't know the answer, just say that you don't know, don't try to make up an answer.\n",
    "Use three sentences maximum and keep the answer as concise as possible.\n",
    "Always say \"thanks for asking!\" at the end of the answer.\n",
    "\n",
    "{context}\n",
    "\n",
    "Question: {question}\n",
    "\n",
    "Helpful Answer:\"\"\"\n",
    "\n",
    "custom_rag_prompt = PromptTemplate.from_template(template)"
   ]
  },
  {
   "cell_type": "code",
   "execution_count": 100,
   "id": "1d207f96-212d-43fb-9f65-16d64a7e9d8b",
   "metadata": {},
   "outputs": [
    {
     "data": {
      "text/plain": [
       "'1. Begin by thoroughly reviewing the provided context related to implementing a RAG (Red, Amber, Green) service. Ensure complete understanding of the specific requirements and objectives outlined in the context.\\n\\n2. Identify the key components and tasks necessary for the implementation of a RAG service. Look for terms and concepts that indicate the framework for categorizing items, data, or statuses using the RAG color coding system.\\n\\n3. Extrapolate the essential steps required for the implementation process. Consider best practices for integrating a RAG system, including how to define criteria for each of the color categories and how to evaluate items against those criteria.\\n\\n4. Organize the steps systematically, ensuring a logical progression that accurately reflects the implementation process. Each step should build on the previous one, creating a coherent framework for execution.\\n\\n5. Clearly detail the actions needed for each step in the implementation of the RAG service. Include specific measures for defining thresholds or conditions for each color category and how to communicate these effectively within the system.\\n\\n6. Use precise and clear language throughout the instructions to prevent any potential misunderstanding or misinterpretation of the tasks involved. Focus on straightforward descriptions that leave no room for ambiguity.\\n\\n7. Pay attention to any constraints or limitations stated in the provided context. Ensure that each step of the implementation respects these constraints and does not anticipate or overlap with subsequent tasks.\\n\\n8. If there are any unclear aspects or vague points in the context, consider requesting additional clarification to ensure that the subsequent instructions will be accurate and relevant.\\n\\n9. Include any necessary additional information or context that would aid in the understanding of the RAG service implementation. Be specific about each component and its role in the overall service.\\n\\n10. Review the instructions to validate their accuracy and effectiveness in achieving the goal of implementing a RAG service. Consider whether the provided steps enable the successful realization of the service as intended. \\n\\nThese instructions will guide the implementation of a RAG service effectively, ensuring clarity, coherence, and respect for any specified constraints. \\n\\n Use the following pieces of context to answer the question at the end.\\nIf you don\\'t know the answer, just say that you don\\'t know, don\\'t try to make up an answer.\\nUse three sentences maximum and keep the answer as concise as possible.\\nAlways say \"thanks for asking!\" at the end of the answer.\\n\\n{context}\\n\\nQuestion: {question}\\n\\nHelpful Answer:'"
      ]
     },
     "execution_count": 100,
     "metadata": {},
     "output_type": "execute_result"
    }
   ],
   "source": [
    "template"
   ]
  },
  {
   "cell_type": "code",
   "execution_count": 101,
   "id": "afd12a2d-c449-4848-a394-509978de8303",
   "metadata": {},
   "outputs": [
    {
     "data": {
      "text/plain": [
       "langchain_core.prompts.prompt.PromptTemplate"
      ]
     },
     "execution_count": 101,
     "metadata": {},
     "output_type": "execute_result"
    }
   ],
   "source": [
    "type(custom_rag_prompt)"
   ]
  },
  {
   "cell_type": "code",
   "execution_count": 102,
   "id": "985266bc-1239-45b1-ab76-d7bd2f279cb4",
   "metadata": {},
   "outputs": [
    {
     "name": "stdout",
     "output_type": "stream",
     "text": [
      "1. Begin by thoroughly reviewing the provided context related to implementing a RAG (Red, Amber, Green) service. Ensure complete understanding of the specific requirements and objectives outlined in the context.\n",
      "\n",
      "2. Identify the key components and tasks necessary for the implementation of a RAG service. Look for terms and concepts that indicate the framework for categorizing items, data, or statuses using the RAG color coding system.\n",
      "\n",
      "3. Extrapolate the essential steps required for the implementation process. Consider best practices for integrating a RAG system, including how to define criteria for each of the color categories and how to evaluate items against those criteria.\n",
      "\n",
      "4. Organize the steps systematically, ensuring a logical progression that accurately reflects the implementation process. Each step should build on the previous one, creating a coherent framework for execution.\n",
      "\n",
      "5. Clearly detail the actions needed for each step in the implementation of the RAG service. Include specific measures for defining thresholds or conditions for each color category and how to communicate these effectively within the system.\n",
      "\n",
      "6. Use precise and clear language throughout the instructions to prevent any potential misunderstanding or misinterpretation of the tasks involved. Focus on straightforward descriptions that leave no room for ambiguity.\n",
      "\n",
      "7. Pay attention to any constraints or limitations stated in the provided context. Ensure that each step of the implementation respects these constraints and does not anticipate or overlap with subsequent tasks.\n",
      "\n",
      "8. If there are any unclear aspects or vague points in the context, consider requesting additional clarification to ensure that the subsequent instructions will be accurate and relevant.\n",
      "\n",
      "9. Include any necessary additional information or context that would aid in the understanding of the RAG service implementation. Be specific about each component and its role in the overall service.\n",
      "\n",
      "10. Review the instructions to validate their accuracy and effectiveness in achieving the goal of implementing a RAG service. Consider whether the provided steps enable the successful realization of the service as intended. \n",
      "\n",
      "These instructions will guide the implementation of a RAG service effectively, ensuring clarity, coherence, and respect for any specified constraints. \n",
      "\n",
      " Use the following pieces of context to answer the question at the end.\n",
      "If you don't know the answer, just say that you don't know, don't try to make up an answer.\n",
      "Use three sentences maximum and keep the answer as concise as possible.\n",
      "Always say \"thanks for asking!\" at the end of the answer.\n",
      "\n",
      "filler context\n",
      "\n",
      "Question: filler question\n",
      "\n",
      "Helpful Answer:\n"
     ]
    }
   ],
   "source": [
    "# 为 context 和 question 填充样例数据，生成 LLM 可用的提示词\n",
    "print(custom_rag_prompt.invoke({\"context\": \"filler context\", \"question\": \"filler question\"}).text)"
   ]
  },
  {
   "cell_type": "code",
   "execution_count": 103,
   "id": "7fbe82ee-de48-4cc8-875c-d74242ef273d",
   "metadata": {},
   "outputs": [],
   "source": [
    "# 重新自定义 RAG Chain\n",
    "custom_rag_chain = (\n",
    "    {\"context\": retriever | format_docs, \"question\": RunnablePassthrough()}\n",
    "    | custom_rag_prompt\n",
    "    | llm\n",
    "    | StrOutputParser()\n",
    ")"
   ]
  },
  {
   "cell_type": "code",
   "execution_count": 104,
   "id": "9b818824-5a44-461a-b6d5-3ff079beaaab",
   "metadata": {},
   "outputs": [
    {
     "data": {
      "text/plain": [
       "'Bitcoin is a decentralized digital currency that enables peer-to-peer transactions without relying on a trusted financial institution. It uses cryptographic proof to secure transactions and prevent double-spending, allowing users to send payments directly to one another. The system operates on a peer-to-peer network that maintains a public history of transactions through a proof-of-work mechanism. Thanks for asking!'"
      ]
     },
     "execution_count": 104,
     "metadata": {},
     "output_type": "execute_result"
    }
   ],
   "source": [
    "# 使用自定义 prompt 生成回答 no1\n",
    "custom_rag_chain.invoke(\"What is bitcoin?\")"
   ]
  },
  {
   "cell_type": "code",
   "execution_count": 105,
   "id": "e6b1fa5d-674d-4e1c-a423-303aea90415b",
   "metadata": {},
   "outputs": [
    {
     "data": {
      "text/plain": [
       "'Peer-to-peer transactions allow individuals to send payments directly to each other without the need for a central authority or financial institution, utilizing a decentralized network. This system relies on cryptographic proofs and a consensus mechanism to prevent double-spending, ensuring transaction integrity. The network remains secure as long as honest nodes maintain the majority of CPU power. Thanks for asking!'"
      ]
     },
     "execution_count": 105,
     "metadata": {},
     "output_type": "execute_result"
    }
   ],
   "source": [
    "# 使用自定义 prompt 生成回答 no2\n",
    "custom_rag_chain.invoke(\"tell me something about peer-to-peer transaction\")"
   ]
  },
  {
   "cell_type": "code",
   "execution_count": 108,
   "id": "97eec48f-d078-49bc-bc20-6a58b8d937b6",
   "metadata": {},
   "outputs": [
    {
     "data": {
      "text/plain": [
       "'The term \"Bitcoin\" occurs once in the provided article. Thanks for asking!'"
      ]
     },
     "execution_count": 108,
     "metadata": {},
     "output_type": "execute_result"
    }
   ],
   "source": [
    "# 使用自定义 prompt 生成回答 no3\n",
    "custom_rag_chain.invoke(\"how many times bitcoin occur in the article\")"
   ]
  },
  {
   "cell_type": "code",
   "execution_count": 110,
   "id": "d87bbfc4-1850-437a-8133-6aec7c675daf",
   "metadata": {},
   "outputs": [
    {
     "data": {
      "text/plain": [
       "'1. Create a new block by including the first transaction as a special transaction that generates new coins for the block creator. \\n2. Ensure that the block contains transactions where input values exceed output values, generating transaction fees that contribute to the incentive. \\n3. Transition to relying solely on transaction fees for incentives once a predetermined number of coins has been distributed into circulation.\\n\\nThanks for asking!'"
      ]
     },
     "execution_count": 110,
     "metadata": {},
     "output_type": "execute_result"
    }
   ],
   "source": [
    "# 使用自定义 prompt 生成回答 no4\n",
    "custom_rag_chain.invoke(\"Tell me the steps to get incentive\")"
   ]
  },
  {
   "cell_type": "code",
   "execution_count": null,
   "id": "648e3f68-2c7b-4722-88b0-9e2996868471",
   "metadata": {},
   "outputs": [],
   "source": []
  }
 ],
 "metadata": {
  "kernelspec": {
   "display_name": "Python 3 (ipykernel)",
   "language": "python",
   "name": "python3"
  },
  "language_info": {
   "codemirror_mode": {
    "name": "ipython",
    "version": 3
   },
   "file_extension": ".py",
   "mimetype": "text/x-python",
   "name": "python",
   "nbconvert_exporter": "python",
   "pygments_lexer": "ipython3",
   "version": "3.10.15"
  }
 },
 "nbformat": 4,
 "nbformat_minor": 5
}
